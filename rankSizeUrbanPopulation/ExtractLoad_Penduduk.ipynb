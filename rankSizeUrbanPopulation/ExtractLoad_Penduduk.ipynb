{
 "cells": [
  {
   "cell_type": "code",
   "execution_count": 132,
   "id": "ee0b69e5-ac29-4959-8b57-17ea4946e8f7",
   "metadata": {},
   "outputs": [
    {
     "name": "stdout",
     "output_type": "stream",
     "text": [
      "The history saving thread hit an unexpected error (OperationalError('attempt to write a readonly database')).History will not be written to the database.\n"
     ]
    }
   ],
   "source": [
    "import requests\n",
    "import json\n",
    "import psycopg2"
   ]
  },
  {
   "cell_type": "code",
   "execution_count": 35,
   "id": "fae09538-48ed-4c58-8a2d-a88d859c6eca",
   "metadata": {},
   "outputs": [
    {
     "name": "stdout",
     "output_type": "stream",
     "text": [
      "Collecting psycopg2-binary\n",
      "  Downloading psycopg2_binary-2.9.9-cp312-cp312-manylinux_2_17_x86_64.manylinux2014_x86_64.whl.metadata (4.4 kB)\n",
      "Downloading psycopg2_binary-2.9.9-cp312-cp312-manylinux_2_17_x86_64.manylinux2014_x86_64.whl (3.0 MB)\n",
      "\u001b[2K   \u001b[38;2;114;156;31m━━━━━━━━━━━━━━━━━━━━━━━━━━━━━━━━━━━━━━━━\u001b[0m \u001b[32m3.0/3.0 MB\u001b[0m \u001b[31m2.5 MB/s\u001b[0m eta \u001b[36m0:00:00\u001b[0mm eta \u001b[36m0:00:01\u001b[0m[36m0:00:01\u001b[0m\n",
      "\u001b[?25hInstalling collected packages: psycopg2-binary\n",
      "Successfully installed psycopg2-binary-2.9.9\n",
      "\n",
      "\u001b[1m[\u001b[0m\u001b[34;49mnotice\u001b[0m\u001b[1;39;49m]\u001b[0m\u001b[39;49m A new release of pip is available: \u001b[0m\u001b[31;49m24.0\u001b[0m\u001b[39;49m -> \u001b[0m\u001b[32;49m24.1\u001b[0m\n",
      "\u001b[1m[\u001b[0m\u001b[34;49mnotice\u001b[0m\u001b[1;39;49m]\u001b[0m\u001b[39;49m To update, run: \u001b[0m\u001b[32;49m/home/bugyardhytio/.local/share/pipx/venvs/notebook/bin/python -m pip install --upgrade pip\u001b[0m\n",
      "Note: you may need to restart the kernel to use updated packages.\n"
     ]
    }
   ],
   "source": [
    "%pip install psycopg2-binary"
   ]
  },
  {
   "cell_type": "markdown",
   "id": "0cab7325-1687-444a-a980-3529457b34e1",
   "metadata": {},
   "source": [
    "# Extract"
   ]
  },
  {
   "cell_type": "markdown",
   "id": "633cbeb5-f5e9-447a-972d-59b41ae0c113",
   "metadata": {},
   "source": [
    "## Domain"
   ]
  },
  {
   "cell_type": "code",
   "execution_count": 139,
   "id": "e36fec97-3601-4ac5-84a2-c40cc13dd262",
   "metadata": {},
   "outputs": [],
   "source": [
    "domain_resp = requests.get('https://webapi.bps.go.id/v1/api/domain/type/kab/key/d4c6b79d2a92a08083fc9ed812cc727e/')\n",
    "domain_json = domain_resp.json()"
   ]
  },
  {
   "cell_type": "code",
   "execution_count": 97,
   "id": "bf9028d4-869c-4d83-9d0c-d987d013b439",
   "metadata": {},
   "outputs": [
    {
     "name": "stdout",
     "output_type": "stream",
     "text": [
      "<Response [200]> <Response [200]>\n"
     ]
    }
   ],
   "source": [
    "print(domain_resp, data_resp)"
   ]
  },
  {
   "cell_type": "code",
   "execution_count": 98,
   "id": "e5f4c912-0d72-46d9-bc56-7888ff64c45a",
   "metadata": {},
   "outputs": [],
   "source": [
    "domain_json"
   ]
  },
  {
   "cell_type": "code",
   "execution_count": 57,
   "id": "2295318c-0bc1-465e-900f-e89b36775bc3",
   "metadata": {},
   "outputs": [],
   "source": [
    "''' Test\n",
    "for i in range(len(domain_json['data'][1])):\n",
    "    \n",
    "    print(\"id:\", domain_json['data'][1][i]['domain_id'], \"|\",\n",
    "          \"nama daerah:\", domain_json['data'][1][i]['domain_name'])\n",
    "'''\n",
    "\n",
    "id_list = [domain_json['data'][1][i]['domain_id'] for i in range(len(domain_json['data'][1]))]\n",
    "name_list = [domain_json['data'][1][i]['domain_name'] for i in range(len(domain_json['data'][1]))]"
   ]
  },
  {
   "cell_type": "code",
   "execution_count": null,
   "id": "4111213e-7327-4867-96c0-b57023fefb09",
   "metadata": {},
   "outputs": [],
   "source": [
    "domain_data = []\n",
    "[domain_data.append((i,j)) for i,j in zip(id_list, name_list)]"
   ]
  },
  {
   "cell_type": "code",
   "execution_count": 88,
   "id": "4b80d1e7-4eb9-45c8-99f4-1c751e6c6eab",
   "metadata": {},
   "outputs": [],
   "source": [
    "for i,j in zip(id_list, name_list):\n",
    "    #print(i,j)\n",
    "    domain_data.append((i,j))"
   ]
  },
  {
   "cell_type": "markdown",
   "id": "96603a2a-5db2-40b8-a9f5-545a1b5cd006",
   "metadata": {},
   "source": [
    "## Jumlah Penduduk"
   ]
  },
  {
   "cell_type": "code",
   "execution_count": 167,
   "id": "c5fe3810-65d1-43c2-9265-8b7641598645",
   "metadata": {},
   "outputs": [],
   "source": [
    "data_resp = requests.get('https://webapi.bps.go.id/v1/api/list/model/data/domain/1100/var/55/th/122/key/d4c6b79d2a92a08083fc9ed812cc727e/')\n",
    "data_json = data_resp.json()"
   ]
  },
  {
   "cell_type": "code",
   "execution_count": 168,
   "id": "a123ab28-cef5-42f1-8e04-7a75207b6969",
   "metadata": {
    "scrolled": true
   },
   "outputs": [
    {
     "data": {
      "text/plain": [
       "{'status': 'OK',\n",
       " 'data-availability': 'available',\n",
       " 'var': [{'val': 55,\n",
       "   'label': 'Jumlah Penduduk',\n",
       "   'unit': 'Jiwa',\n",
       "   'subj': 'Kependudukan',\n",
       "   'def': '-',\n",
       "   'decimal': '',\n",
       "   'note': '-'}],\n",
       " 'turvar': [{'val': 0, 'label': 'Tidak Ada'}],\n",
       " 'labelvervar': 'Kabupaten/Kota &amp; Provinsi',\n",
       " 'vervar': [{'val': 1199, 'label': 'PROVINSI ACEH'},\n",
       "  {'val': 1101, 'label': 'SIMEULUE'},\n",
       "  {'val': 1102, 'label': 'ACEH SINGKIL'},\n",
       "  {'val': 1103, 'label': 'ACEH SELATAN'},\n",
       "  {'val': 1104, 'label': 'ACEH TENGGARA'},\n",
       "  {'val': 1105, 'label': 'ACEH TIMUR'},\n",
       "  {'val': 1106, 'label': 'ACEH TENGAH'},\n",
       "  {'val': 1107, 'label': 'ACEH BARAT'},\n",
       "  {'val': 1108, 'label': 'ACEH BESAR'},\n",
       "  {'val': 1109, 'label': 'PIDIE'},\n",
       "  {'val': 1110, 'label': 'BIREUEN'},\n",
       "  {'val': 1111, 'label': 'ACEH UTARA'},\n",
       "  {'val': 1112, 'label': 'ACEH BARAT DAYA'},\n",
       "  {'val': 1113, 'label': 'GAYO LUES'},\n",
       "  {'val': 1114, 'label': 'ACEH TAMIANG'},\n",
       "  {'val': 1115, 'label': 'NAGAN RAYA'},\n",
       "  {'val': 1116, 'label': 'ACEH JAYA'},\n",
       "  {'val': 1117, 'label': 'BENER MERIAH'},\n",
       "  {'val': 1118, 'label': 'PIDIE JAYA'},\n",
       "  {'val': 1171, 'label': 'BANDA ACEH'},\n",
       "  {'val': 1172, 'label': 'SABANG'},\n",
       "  {'val': 1173, 'label': 'LANGSA'},\n",
       "  {'val': 1174, 'label': 'LHOKSEUMAWE'},\n",
       "  {'val': 1175, 'label': 'SUBULUSSALAM'}],\n",
       " 'tahun': [{'val': 122, 'label': '2022'}],\n",
       " 'turtahun': [{'val': 0, 'label': 'Tahun'}],\n",
       " 'datacontent': {'11995501220': 5407855,\n",
       "  '11015501220': 94876,\n",
       "  '11025501220': 130787,\n",
       "  '11035501220': 237376,\n",
       "  '11045501220': 228308,\n",
       "  '11055501220': 432849,\n",
       "  '11065501220': 222673,\n",
       "  '11075501220': 202858,\n",
       "  '11085501220': 414490,\n",
       "  '11095501220': 444505,\n",
       "  '11105501220': 443874,\n",
       "  '11115501220': 614640,\n",
       "  '11125501220': 155046,\n",
       "  '11135501220': 103131,\n",
       "  '11145501220': 301492,\n",
       "  '11155501220': 173393,\n",
       "  '11165501220': 96028,\n",
       "  '11175501220': 168690,\n",
       "  '11185501220': 162771,\n",
       "  '11715501220': 257635,\n",
       "  '11725501220': 43208,\n",
       "  '11735501220': 192630,\n",
       "  '11745501220': 191396,\n",
       "  '11755501220': 95199}}"
      ]
     },
     "execution_count": 168,
     "metadata": {},
     "output_type": "execute_result"
    }
   ],
   "source": [
    "data_json"
   ]
  },
  {
   "cell_type": "code",
   "execution_count": null,
   "id": "b7c53ba3-4e94-4247-8bd2-8d5b0cb24142",
   "metadata": {},
   "outputs": [],
   "source": [
    "data['vervar']"
   ]
  },
  {
   "cell_type": "code",
   "execution_count": 164,
   "id": "ccb62814-918b-4485-b0bc-2f19186f1a6b",
   "metadata": {},
   "outputs": [
    {
     "name": "stdout",
     "output_type": "stream",
     "text": [
      "['1100', '1200', '1300', '1400', '1500', '1600', '1700', '1800', '1900', '2100', '3100', '3200', '3300', '3400', '3500', '3600', '5100', '5200', '5300', '6100', '6200', '6300', '6400', '6500', '7100', '7200', '7300', '7400', '7500', '7600', '8100', '8200', '9100', '9400']\n"
     ]
    }
   ],
   "source": [
    "kode_provinsi = []\n",
    "\n",
    "for i in id_list:\n",
    "    kode_provinsi.append(i[0:2] + \"00\")\n",
    "\n",
    "print(list(dict.fromkeys(kode_provinsi)))"
   ]
  },
  {
   "cell_type": "markdown",
   "id": "2d588914-285d-4146-a356-e38e8ce246db",
   "metadata": {},
   "source": [
    "# Load"
   ]
  },
  {
   "cell_type": "code",
   "execution_count": 124,
   "id": "6b9c7854-4fff-41a8-8637-018e8874ed59",
   "metadata": {},
   "outputs": [],
   "source": [
    "conn = psycopg2.connect(\"host=localhost dbname=bps_data user=postgres password=postgres\")\n",
    "cur = conn.cursor()\n",
    "# https://www.postgresqltutorial.com/postgresql-python/connect/"
   ]
  },
  {
   "cell_type": "code",
   "execution_count": 127,
   "id": "36959b3e-14c0-48e1-95a6-b2794c7b4c8f",
   "metadata": {},
   "outputs": [],
   "source": [
    "conn.rollback()\n",
    "cur.execute(\"CREATE TABLE domain_kabkot (id serial PRIMARY KEY, domain_id varchar(4), nama_kabkot varchar);\")\n",
    "\n",
    "conn.commit()"
   ]
  },
  {
   "cell_type": "code",
   "execution_count": 131,
   "id": "168a0d28-f544-48cb-a1b1-ae9813edfdae",
   "metadata": {},
   "outputs": [
    {
     "data": {
      "text/plain": [
       "(1029, '1101', 'Simeulue')"
      ]
     },
     "execution_count": 131,
     "metadata": {},
     "output_type": "execute_result"
    }
   ],
   "source": [
    "conn.rollback()\n",
    "for d in domain_data:\n",
    "        cur.execute(\"INSERT INTO domain_kabkot (domain_id, nama_kabkot) VALUES (%s, %s)\", (d[0],d[1]))\n",
    "cur.execute(\"SELECT * FROM domain_kabkot;\")\n",
    "conn.commit()\n",
    "\n",
    "cur.fetchone()"
   ]
  },
  {
   "cell_type": "code",
   "execution_count": 72,
   "id": "10796550-0c3d-49aa-bc75-13a97e9f91f3",
   "metadata": {},
   "outputs": [
    {
     "ename": "DuplicateTable",
     "evalue": "relation \"domain\" already exists\n",
     "output_type": "error",
     "traceback": [
      "\u001b[0;31m---------------------------------------------------------------------------\u001b[0m",
      "\u001b[0;31mDuplicateTable\u001b[0m                            Traceback (most recent call last)",
      "Cell \u001b[0;32mIn[72], line 7\u001b[0m\n\u001b[1;32m      1\u001b[0m cur \u001b[38;5;241m=\u001b[39m conn\u001b[38;5;241m.\u001b[39mcursor()\n\u001b[1;32m      2\u001b[0m command \u001b[38;5;241m=\u001b[39m (\u001b[38;5;124m'''\u001b[39m\u001b[38;5;124mCREATE TABLE domain (\u001b[39m\n\u001b[1;32m      3\u001b[0m \u001b[38;5;124m            domain_id INTEGER PRIMARY KEY,\u001b[39m\n\u001b[1;32m      4\u001b[0m \u001b[38;5;124m            kabupaten_name VARCHAR(50)\u001b[39m\n\u001b[1;32m      5\u001b[0m \u001b[38;5;124m        )\u001b[39m\u001b[38;5;124m'''\u001b[39m) \n\u001b[0;32m----> 7\u001b[0m \u001b[43mcur\u001b[49m\u001b[38;5;241;43m.\u001b[39;49m\u001b[43mexecute\u001b[49m\u001b[43m(\u001b[49m\u001b[43mcommand\u001b[49m\u001b[43m)\u001b[49m\n\u001b[1;32m      8\u001b[0m conn\u001b[38;5;241m.\u001b[39mcommit()\n",
      "\u001b[0;31mDuplicateTable\u001b[0m: relation \"domain\" already exists\n"
     ]
    }
   ],
   "source": [
    "command = ('''ALTER TABLE test \n",
    "            )''') \n",
    "\n",
    "cur.execute(command)\n",
    "conn.commit()"
   ]
  },
  {
   "cell_type": "code",
   "execution_count": 123,
   "id": "d331f85a-18b8-480c-ac22-c8ce197d3f48",
   "metadata": {},
   "outputs": [],
   "source": [
    "conn.close()"
   ]
  },
  {
   "cell_type": "code",
   "execution_count": null,
   "id": "6a5f505c-a14d-4bec-a483-23597e99a16f",
   "metadata": {},
   "outputs": [],
   "source": []
  }
 ],
 "metadata": {
  "kernelspec": {
   "display_name": "Python 3 (ipykernel)",
   "language": "python",
   "name": "python3"
  },
  "language_info": {
   "codemirror_mode": {
    "name": "ipython",
    "version": 3
   },
   "file_extension": ".py",
   "mimetype": "text/x-python",
   "name": "python",
   "nbconvert_exporter": "python",
   "pygments_lexer": "ipython3",
   "version": "3.12.3"
  }
 },
 "nbformat": 4,
 "nbformat_minor": 5
}
