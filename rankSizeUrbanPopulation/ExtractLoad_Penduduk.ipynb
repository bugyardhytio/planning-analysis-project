{
 "cells": [
  {
   "cell_type": "code",
   "execution_count": null,
   "id": "502178bd-3ac7-4ac8-b3dc-a814c7983b73",
   "metadata": {},
   "outputs": [],
   "source": []
  },
  {
   "cell_type": "code",
   "execution_count": 1,
   "id": "ee0b69e5-ac29-4959-8b57-17ea4946e8f7",
   "metadata": {},
   "outputs": [],
   "source": [
    "import requests\n",
    "import json\n",
    "import psycopg2\n",
    "import pandas as pd\n",
    "import matplotlib.pyplot as plt\n",
    "import mysql.connector"
   ]
  },
  {
   "cell_type": "markdown",
   "id": "0cab7325-1687-444a-a980-3529457b34e1",
   "metadata": {},
   "source": [
    "# Extract"
   ]
  },
  {
   "cell_type": "markdown",
   "id": "633cbeb5-f5e9-447a-972d-59b41ae0c113",
   "metadata": {},
   "source": [
    "## Domain"
   ]
  },
  {
   "cell_type": "code",
   "execution_count": 2,
   "id": "e36fec97-3601-4ac5-84a2-c40cc13dd262",
   "metadata": {},
   "outputs": [
    {
     "name": "stdout",
     "output_type": "stream",
     "text": [
      "Data kabkot diambil dari file lokal\n",
      "Data prov diambil dari file lokal\n"
     ]
    }
   ],
   "source": [
    "'''Baca file/API domain '''\n",
    "\n",
    "try:\n",
    "    with open(\"data/domain_kabkot.json\") as d:\n",
    "        if d:\n",
    "            domain_json = d.read()\n",
    "            domain_json = json.loads(domain_json)\n",
    "            d.close()\n",
    "\n",
    "        print(\"Data kabkot diambil dari file lokal\")\n",
    "\n",
    "    with open(\"data/domain_prov.json\") as d:\n",
    "        if d:\n",
    "            domain_json_prov = d.read()\n",
    "            domain_json_prov = json.loads(domain_json_prov)\n",
    "            d.close()\n",
    "\n",
    "        print(\"Data prov diambil dari file lokal\")\n",
    "\n",
    "except FileNotFoundError:\n",
    "    domain_resp = requests.get('https://webapi.bps.go.id/v1/api/domain/type/kab/key/d4c6b79d2a92a08083fc9ed812cc727e/')\n",
    "    domain_json = domain_resp.json()\n",
    "    domain = json.dumps(domain_json)\n",
    "\n",
    "    with open(\"data/domain_kabkot.json\", \"w\") as w:\n",
    "        w.write(domain)\n",
    "    \n",
    "    domain_resp_prov = requests.get('https://webapi.bps.go.id/v1/api/domain/type/prov/key/d4c6b79d2a92a08083fc9ed812cc727e/')\n",
    "    domain_json_prov = domain_resp_prov.json()\n",
    "    domain = json.dumps(domain_json_prov)\n",
    "\n",
    "    with open(\"data/domain_prov.json\", \"w\") as w:\n",
    "        w.write(domain)\n",
    "\n",
    "    print(\"Data diambil dari API\")"
   ]
  },
  {
   "cell_type": "markdown",
   "id": "8586e558-722d-47cf-8832-3dfa73a10b7e",
   "metadata": {},
   "source": [
    "List kode kabupaten/kota dan namanya. Variabel domain_data berisi list tuple kode kabupaten/kota dan namanya. List kode provinsi dan namanya. Variabel domain_provinsi berisi list tuple kode provinsi dan namanya"
   ]
  },
  {
   "cell_type": "code",
   "execution_count": 4,
   "id": "2295318c-0bc1-465e-900f-e89b36775bc3",
   "metadata": {},
   "outputs": [],
   "source": [
    "id_list = [domain_json['data'][1][i]['domain_id'] for i in range(len(domain_json['data'][1]))]\n",
    "name_list = [domain_json['data'][1][i]['domain_name'] for i in range(len(domain_json['data'][1]))]"
   ]
  },
  {
   "cell_type": "code",
   "execution_count": 5,
   "id": "4dc55a91-15df-4612-978b-bb0cef5c123c",
   "metadata": {},
   "outputs": [],
   "source": [
    "domain_data = list()\n",
    "for i,j in zip(id_list, name_list):\n",
    "    domain_data.append((i,j))"
   ]
  },
  {
   "cell_type": "code",
   "execution_count": null,
   "id": "2800efae-8cc2-4362-8f36-9aa6a379e737",
   "metadata": {},
   "outputs": [],
   "source": [
    "domain_data"
   ]
  },
  {
   "cell_type": "code",
   "execution_count": 7,
   "id": "2be9ca4a-0421-4f24-ac9d-bc4720dd8b24",
   "metadata": {},
   "outputs": [],
   "source": [
    "l = len(domain_json_prov['data'][1])\n",
    "\n",
    "kode_provinsi = [domain_json_prov['data'][1][i]['domain_id'] for i in range(l)]\n",
    "nama_provinsi = [domain_json_prov['data'][1][i]['domain_name'] for i in range(l)]"
   ]
  },
  {
   "cell_type": "code",
   "execution_count": 8,
   "id": "e5f4c912-0d72-46d9-bc56-7888ff64c45a",
   "metadata": {},
   "outputs": [],
   "source": [
    "domain_provinsi = list()\n",
    "for i,j in zip(kode_provinsi, nama_provinsi):\n",
    "    domain_provinsi.append((i,j))"
   ]
  },
  {
   "cell_type": "code",
   "execution_count": 9,
   "id": "b5cbfdfb-9e39-413e-8f54-c85fffb499e5",
   "metadata": {},
   "outputs": [
    {
     "data": {
      "text/plain": [
       "['1100',\n",
       " '1200',\n",
       " '1300',\n",
       " '1400',\n",
       " '1500',\n",
       " '1600',\n",
       " '1700',\n",
       " '1800',\n",
       " '1900',\n",
       " '2100',\n",
       " '3100',\n",
       " '3200',\n",
       " '3300',\n",
       " '3400',\n",
       " '3500',\n",
       " '3600',\n",
       " '5100',\n",
       " '5200',\n",
       " '5300',\n",
       " '6100',\n",
       " '6200',\n",
       " '6300',\n",
       " '6400',\n",
       " '6500',\n",
       " '7100',\n",
       " '7200',\n",
       " '7300',\n",
       " '7400',\n",
       " '7500',\n",
       " '7600',\n",
       " '8100',\n",
       " '8200',\n",
       " '9100',\n",
       " '9400']"
      ]
     },
     "execution_count": 9,
     "metadata": {},
     "output_type": "execute_result"
    }
   ],
   "source": [
    "kode_provinsi"
   ]
  },
  {
   "cell_type": "code",
   "execution_count": 10,
   "id": "68bef7c7-4761-43a2-8669-5398b4485919",
   "metadata": {},
   "outputs": [],
   "source": [
    "for i in range(len(domain_provinsi)):\n",
    "    d = domain_provinsi[i][1].lower().split()\n",
    "    \n",
    "    filename_prov = domain_provinsi[i][0] + '-' + ''.join(d)"
   ]
  },
  {
   "cell_type": "code",
   "execution_count": 35,
   "id": "ccb62814-918b-4485-b0bc-2f19186f1a6b",
   "metadata": {},
   "outputs": [
    {
     "name": "stdout",
     "output_type": "stream",
     "text": [
      "['1100', '1200', '1300', '1400', '1500', '1600', '1700', '1800', '1900', '2100', '3100', '3200', '3300', '3400', '3500', '3600', '5100', '5200', '5300', '6100', '6200', '6300', '6400', '6500', '7100', '7200', '7300', '7400', '7500', '7600', '8100', '8200', '9100', '9400']\n"
     ]
    }
   ],
   "source": [
    "kode_provinsi = []\n",
    "\n",
    "for i in id_list:\n",
    "    kode_provinsi.append(i[0:2] + \"00\")\n",
    "\n",
    "kode_provinsi_data = list(dict.fromkeys(kode_provinsi))\n",
    "\n",
    "print(kode_provinsi_data)"
   ]
  },
  {
   "cell_type": "markdown",
   "id": "96603a2a-5db2-40b8-a9f5-545a1b5cd006",
   "metadata": {},
   "source": [
    "## Jumlah Penduduk"
   ]
  },
  {
   "cell_type": "code",
   "execution_count": 12,
   "id": "c5fe3810-65d1-43c2-9265-8b7641598645",
   "metadata": {},
   "outputs": [
    {
     "name": "stdout",
     "output_type": "stream",
     "text": [
      "Data Lokal\n"
     ]
    }
   ],
   "source": [
    "''' '''\n",
    "\n",
    "try:\n",
    "    with open(\"data/jumlahpenduduk_aceh.json\", \"r\") as d:\n",
    "        if d:\n",
    "            penduduk_aceh = d.read()\n",
    "            penduduk_aceh = json.loads(penduduk_aceh)\n",
    "        d.close()\n",
    "        \n",
    "    print(\"Data Lokal\")\n",
    "except FileNotFoundError:  \n",
    "    data_resp = requests.get(\"https://webapi.bps.go.id/v1/api/list/model/data/domain/1100/var/55/th/122/key/d4c6b79d2a92a08083fc9ed812cc727e/\")\n",
    "    data_json = data_resp.json()\n",
    "    data_write = json.dumps(data_json)\n",
    "    \n",
    "    with open(\"data/jumlahpenduduk_aceh.json\", \"w\") as w:\n",
    "        w.write(data_write)\n",
    "        w.close()\n",
    "    \n",
    "    print(\"Data API\")"
   ]
  },
  {
   "cell_type": "code",
   "execution_count": 13,
   "id": "2bf98ff5-408d-452d-8cda-e7d77a9f3f1d",
   "metadata": {},
   "outputs": [],
   "source": [
    "# rincian data ada di notebook BPS\n",
    "jumlah_penduduk_request = [55, 65, 32, 32, 32, \n",
    "                    813, 28, 187, 33, 48,\n",
    "                    111, 133, 766, 133, 120,\n",
    "                    46, 28, 29, 531, 42,\n",
    "                    26, 91, 28, 28, 45,\n",
    "                    28, 49, 371, 44, 29,\n",
    "                    92, 29, 146, 51]"
   ]
  },
  {
   "cell_type": "code",
   "execution_count": 40,
   "id": "d99288e2-ac08-4ca3-99ac-4376c3fd9556",
   "metadata": {},
   "outputs": [],
   "source": [
    "i = 0\n",
    "data_json = list()\n",
    "\n",
    "for i in range(len(kode_provinsi_data)):\n",
    "    data_resp = requests.get(\"https://webapi.bps.go.id/v1/api/list/model/data/domain/\" + str(kode_provinsi_data[i]) + \"/var/\" + str(jumlah_penduduk_request[i]) + \"/th/122/key/d4c6b79d2a92a08083fc9ed812cc727e/\")\n",
    "    data_json.append(data_resp.json())"
   ]
  },
  {
   "cell_type": "code",
   "execution_count": 28,
   "id": "8ee8fefa-2d2c-4a37-84d3-d3b8d14fbc73",
   "metadata": {},
   "outputs": [
    {
     "name": "stdout",
     "output_type": "stream",
     "text": [
      "34 34\n"
     ]
    }
   ],
   "source": [
    "print(len(kode_provinsi_data),len(jumlah_penduduk_request))"
   ]
  },
  {
   "cell_type": "code",
   "execution_count": 46,
   "id": "f92e21c8-f929-4b0b-a0a9-0a3dc927598f",
   "metadata": {},
   "outputs": [
    {
     "data": {
      "text/plain": [
       "{'status': 'OK',\n",
       " 'data-availability': 'available',\n",
       " 'var': [{'val': 65,\n",
       "   'label': 'Jumlah Penduduk menurut Jenis Kelamin dan Kabupaten/Kota',\n",
       "   'unit': 'Jiwa',\n",
       "   'subj': 'Kependudukan',\n",
       "   'def': '',\n",
       "   'decimal': '0',\n",
       "   'note': 'Data Proyeksi Penduduk Sp2010\\n* Backcasting untuk Nias dan Nias Barat'}],\n",
       " 'turvar': [{'val': 314, 'label': 'Jumlah'},\n",
       "  {'val': 315, 'label': 'Perempuan'},\n",
       "  {'val': 316, 'label': 'Laki-Laki'}],\n",
       " 'labelvervar': 'Kabupaten Kota',\n",
       " 'vervar': [{'val': 1201, 'label': 'Nias'},\n",
       "  {'val': 1202, 'label': 'Mandailing Natal'},\n",
       "  {'val': 1203, 'label': 'Tapanuli Selatan'},\n",
       "  {'val': 1204, 'label': 'Tapanuli Tengah'},\n",
       "  {'val': 1205, 'label': 'Tapanuli Utara'},\n",
       "  {'val': 1206, 'label': 'Toba'},\n",
       "  {'val': 1207, 'label': 'Labuhan Batu'},\n",
       "  {'val': 1208, 'label': 'Asahan'},\n",
       "  {'val': 1209, 'label': 'Simalungun'},\n",
       "  {'val': 1210, 'label': 'Dairi'},\n",
       "  {'val': 1211, 'label': 'Karo'},\n",
       "  {'val': 1212, 'label': 'Deli Serdang'},\n",
       "  {'val': 1213, 'label': 'Langkat'},\n",
       "  {'val': 1214, 'label': 'Nias Selatan'},\n",
       "  {'val': 1215, 'label': 'Humbang Hasundutan'},\n",
       "  {'val': 1216, 'label': 'Pakpak Bharat'},\n",
       "  {'val': 1217, 'label': 'Samosir'},\n",
       "  {'val': 1218, 'label': 'Serdang Bedagai'},\n",
       "  {'val': 1219, 'label': 'Batu Bara'},\n",
       "  {'val': 1220, 'label': 'Padang Lawas Utara'},\n",
       "  {'val': 1221, 'label': 'Padang Lawas'},\n",
       "  {'val': 1222, 'label': 'Labuhanbatu Selatan'},\n",
       "  {'val': 1223, 'label': 'Labuanbatu Utara'},\n",
       "  {'val': 1224, 'label': 'Nias Utara'},\n",
       "  {'val': 1225, 'label': 'Nias Barat'},\n",
       "  {'val': 1271, 'label': 'Sibolga'},\n",
       "  {'val': 1272, 'label': 'Tanjungbalai'},\n",
       "  {'val': 1273, 'label': 'Pematangsiantar'},\n",
       "  {'val': 1274, 'label': 'Tebing Tinggi'},\n",
       "  {'val': 1275, 'label': 'Medan'},\n",
       "  {'val': 1276, 'label': 'Binjai'},\n",
       "  {'val': 1277, 'label': 'Padangsidimpuan'},\n",
       "  {'val': 1278, 'label': 'Gunungsitoli'},\n",
       "  {'val': 1200, 'label': 'Sumatera Utara'}],\n",
       " 'tahun': [{'val': 122, 'label': '2022'}],\n",
       " 'turtahun': [{'val': 0, 'label': 'Tahun'}],\n",
       " 'datacontent': {'1201653141220': 149249,\n",
       "  '1201653151220': 76259,\n",
       "  '1201653161220': 72990,\n",
       "  '1202653141220': 484874,\n",
       "  '1202653151220': 243280,\n",
       "  '1202653161220': 241594,\n",
       "  '1203653141220': 307312,\n",
       "  '1203653151220': 152855,\n",
       "  '1203653161220': 154457,\n",
       "  '1204653141220': 374734,\n",
       "  '1204653151220': 185994,\n",
       "  '1204653161220': 188740,\n",
       "  '1205653141220': 318424,\n",
       "  '1205653151220': 159322,\n",
       "  '1205653161220': 159102,\n",
       "  '1206653141220': 212133,\n",
       "  '1206653151220': 106259,\n",
       "  '1206653161220': 105874,\n",
       "  '1207653141220': 508024,\n",
       "  '1207653151220': 250222,\n",
       "  '1207653161220': 257802,\n",
       "  '1208653141220': 787681,\n",
       "  '1208653151220': 389086,\n",
       "  '1208653161220': 398595,\n",
       "  '1209653141220': 1021615,\n",
       "  '1209653151220': 508235,\n",
       "  '1209653161220': 513380,\n",
       "  '1210653141220': 315460,\n",
       "  '1210653151220': 157383,\n",
       "  '1210653161220': 158077,\n",
       "  '1211653141220': 414429,\n",
       "  '1211653151220': 209394,\n",
       "  '1211653161220': 205035,\n",
       "  '1212653141220': 1953986,\n",
       "  '1212653151220': 970311,\n",
       "  '1212653161220': 983675,\n",
       "  '1213653141220': 1039926,\n",
       "  '1213653151220': 513906,\n",
       "  '1213653161220': 526020,\n",
       "  '1214653141220': 373674,\n",
       "  '1214653151220': 186047,\n",
       "  '1214653161220': 187627,\n",
       "  '1215653141220': 202299,\n",
       "  '1215653151220': 101003,\n",
       "  '1215653161220': 101296,\n",
       "  '1216653141220': 54609,\n",
       "  '1216653151220': 27006,\n",
       "  '1216653161220': 27603,\n",
       "  '1217653141220': 139337,\n",
       "  '1217653151220': 69895,\n",
       "  '1217653161220': 69442,\n",
       "  '1218653141220': 667998,\n",
       "  '1218653151220': 331401,\n",
       "  '1218653161220': 336597,\n",
       "  '1219653141220': 416367,\n",
       "  '1219653151220': 206827,\n",
       "  '1219653161220': 209540,\n",
       "  '1220653141220': 267275,\n",
       "  '1220653151220': 130958,\n",
       "  '1220653161220': 136317,\n",
       "  '1221653141220': 267275,\n",
       "  '1221653151220': 132562,\n",
       "  '1221653161220': 134713,\n",
       "  '1222653141220': 320324,\n",
       "  '1222653151220': 156688,\n",
       "  '1222653161220': 163636,\n",
       "  '1223653141220': 390954,\n",
       "  '1223653151220': 192432,\n",
       "  '1223653161220': 198522,\n",
       "  '1224653141220': 150780,\n",
       "  '1224653151220': 75776,\n",
       "  '1224653161220': 75004,\n",
       "  '1225653141220': 91346,\n",
       "  '1225653151220': 46861,\n",
       "  '1225653161220': 44485,\n",
       "  '1271653141220': 90366,\n",
       "  '1271653151220': 45031,\n",
       "  '1271653161220': 45335,\n",
       "  '1272653141220': 179748,\n",
       "  '1272653151220': 88649,\n",
       "  '1272653161220': 91099,\n",
       "  '1273653141220': 274056,\n",
       "  '1273653151220': 138490,\n",
       "  '1273653161220': 135566,\n",
       "  '1274653141220': 177785,\n",
       "  '1274653151220': 89236,\n",
       "  '1274653161220': 88549,\n",
       "  '1275653141220': 2494512,\n",
       "  '1275653151220': 1252199,\n",
       "  '1275653161220': 1242313,\n",
       "  '1276653141220': 300009,\n",
       "  '1276653151220': 149977,\n",
       "  '1276653161220': 150032,\n",
       "  '1277653141220': 231062,\n",
       "  '1277653151220': 116024,\n",
       "  '1277653161220': 115038,\n",
       "  '1278653141220': 137583,\n",
       "  '1278653151220': 70645,\n",
       "  '1278653161220': 66938,\n",
       "  '1200653141220': 15115206,\n",
       "  '1200653151220': 7530213,\n",
       "  '1200653161220': 7584993}}"
      ]
     },
     "execution_count": 46,
     "metadata": {},
     "output_type": "execute_result"
    }
   ],
   "source": [
    "data_json[1])"
   ]
  },
  {
   "cell_type": "code",
   "execution_count": 14,
   "id": "0dead886-096b-4dc6-bec3-ce4bf07354e3",
   "metadata": {},
   "outputs": [
    {
     "data": {
      "text/plain": [
       "{'status': 'OK',\n",
       " 'data-availability': 'available',\n",
       " 'var': [{'val': 55,\n",
       "   'label': 'Jumlah Penduduk',\n",
       "   'unit': 'Jiwa',\n",
       "   'subj': 'Kependudukan',\n",
       "   'def': '-',\n",
       "   'decimal': '',\n",
       "   'note': '-'}],\n",
       " 'turvar': [{'val': 0, 'label': 'Tidak Ada'}],\n",
       " 'labelvervar': 'Kabupaten/Kota &amp; Provinsi',\n",
       " 'vervar': [{'val': 1199, 'label': 'PROVINSI ACEH'},\n",
       "  {'val': 1101, 'label': 'SIMEULUE'},\n",
       "  {'val': 1102, 'label': 'ACEH SINGKIL'},\n",
       "  {'val': 1103, 'label': 'ACEH SELATAN'},\n",
       "  {'val': 1104, 'label': 'ACEH TENGGARA'},\n",
       "  {'val': 1105, 'label': 'ACEH TIMUR'},\n",
       "  {'val': 1106, 'label': 'ACEH TENGAH'},\n",
       "  {'val': 1107, 'label': 'ACEH BARAT'},\n",
       "  {'val': 1108, 'label': 'ACEH BESAR'},\n",
       "  {'val': 1109, 'label': 'PIDIE'},\n",
       "  {'val': 1110, 'label': 'BIREUEN'},\n",
       "  {'val': 1111, 'label': 'ACEH UTARA'},\n",
       "  {'val': 1112, 'label': 'ACEH BARAT DAYA'},\n",
       "  {'val': 1113, 'label': 'GAYO LUES'},\n",
       "  {'val': 1114, 'label': 'ACEH TAMIANG'},\n",
       "  {'val': 1115, 'label': 'NAGAN RAYA'},\n",
       "  {'val': 1116, 'label': 'ACEH JAYA'},\n",
       "  {'val': 1117, 'label': 'BENER MERIAH'},\n",
       "  {'val': 1118, 'label': 'PIDIE JAYA'},\n",
       "  {'val': 1171, 'label': 'BANDA ACEH'},\n",
       "  {'val': 1172, 'label': 'SABANG'},\n",
       "  {'val': 1173, 'label': 'LANGSA'},\n",
       "  {'val': 1174, 'label': 'LHOKSEUMAWE'},\n",
       "  {'val': 1175, 'label': 'SUBULUSSALAM'}],\n",
       " 'tahun': [{'val': 122, 'label': '2022'}],\n",
       " 'turtahun': [{'val': 0, 'label': 'Tahun'}],\n",
       " 'datacontent': {'11995501220': 5407855,\n",
       "  '11015501220': 94876,\n",
       "  '11025501220': 130787,\n",
       "  '11035501220': 237376,\n",
       "  '11045501220': 228308,\n",
       "  '11055501220': 432849,\n",
       "  '11065501220': 222673,\n",
       "  '11075501220': 202858,\n",
       "  '11085501220': 414490,\n",
       "  '11095501220': 444505,\n",
       "  '11105501220': 443874,\n",
       "  '11115501220': 614640,\n",
       "  '11125501220': 155046,\n",
       "  '11135501220': 103131,\n",
       "  '11145501220': 301492,\n",
       "  '11155501220': 173393,\n",
       "  '11165501220': 96028,\n",
       "  '11175501220': 168690,\n",
       "  '11185501220': 162771,\n",
       "  '11715501220': 257635,\n",
       "  '11725501220': 43208,\n",
       "  '11735501220': 192630,\n",
       "  '11745501220': 191396,\n",
       "  '11755501220': 95199}}"
      ]
     },
     "execution_count": 14,
     "metadata": {},
     "output_type": "execute_result"
    }
   ],
   "source": [
    "penduduk_aceh"
   ]
  },
  {
   "cell_type": "code",
   "execution_count": 15,
   "id": "93eafd5b-76fe-42e1-b0a9-5aa897a6feae",
   "metadata": {},
   "outputs": [],
   "source": [
    "df_label = pd.DataFrame(penduduk_aceh['vervar'], penduduk_aceh['datacontent'])\n",
    "df_penduduk = pd.Series(penduduk_aceh['datacontent'])"
   ]
  },
  {
   "cell_type": "code",
   "execution_count": 17,
   "id": "41123da5-0715-4a71-80a8-da7b806b70ca",
   "metadata": {},
   "outputs": [],
   "source": [
    "df = pd.merge(df_label, df_penduduk.rename(\"penduduk2022\"), left_index = True, right_index = True)"
   ]
  },
  {
   "cell_type": "code",
   "execution_count": 23,
   "id": "ca2b49de-bdeb-4645-8b08-9629fab7a02e",
   "metadata": {},
   "outputs": [],
   "source": [
    "df = df.sort_values(by=\"penduduk2022\", ascending=False)"
   ]
  },
  {
   "cell_type": "code",
   "execution_count": 25,
   "id": "39650b20-e18a-42f8-96a2-3c224a7d44b8",
   "metadata": {},
   "outputs": [
    {
     "data": {
      "image/png": "[encoded data removed]",
      "text/plain": [
       "<Figure size 1000x500 with 1 Axes>"
      ]
     },
     "metadata": {},
     "output_type": "display_data"
    }
   ],
   "source": [
    "fig, ax = plt.subplots(figsize=(10,5))\n",
    "plt.plot(df.iloc[1:, 2],)\n",
    "plt.show()"
   ]
  },
  {
   "cell_type": "code",
   "execution_count": 12,
   "id": "285c0b9b-8d82-4d06-a5a7-dbbf5d38d0d3",
   "metadata": {},
   "outputs": [],
   "source": [
    "id_list = [domain_json['data'][1][i]['domain_id'] for i in range(len(domain_json['data'][1]))]\n",
    "name_list = [domain_json['data'][1][i]['domain_name'] for i in range(len(domain_json['data'][1]))]\n",
    "\n",
    "domain_data = list()\n",
    "for i,j in zip(id_list, name_list):\n",
    "    domain_data.append((i,j))"
   ]
  },
  {
   "cell_type": "code",
   "execution_count": 13,
   "id": "81c8802b-5ab6-43d9-933e-46ee1a21570c",
   "metadata": {},
   "outputs": [
    {
     "ename": "SyntaxError",
     "evalue": "invalid syntax (2600543828.py, line 1)",
     "output_type": "error",
     "traceback": [
      "\u001b[0;36m  Cell \u001b[0;32mIn[13], line 1\u001b[0;36m\u001b[0m\n\u001b[0;31m    for i in\u001b[0m\n\u001b[0m            ^\u001b[0m\n\u001b[0;31mSyntaxError\u001b[0m\u001b[0;31m:\u001b[0m invalid syntax\n"
     ]
    }
   ],
   "source": [
    "for i in\n",
    "data_json[0]['datacontent'][i]"
   ]
  },
  {
   "cell_type": "code",
   "execution_count": 37,
   "id": "114ad03a-4706-4e0d-b8f0-8a96c28c2249",
   "metadata": {},
   "outputs": [],
   "source": [
    "def get_bps_data(domain, variable):\n",
    "    '''\n",
    "    Extract data from BPS API, not yet include API requests which come before this method\n",
    "    Output: (data_key, nama_daerah, value)\n",
    "    '''\n",
    "\n",
    "\n",
    "def rebuild_data_key(data):\n",
    "    '''\n",
    "    Fungsi: kamus metadata BPS API pribadi\n",
    "    Output: string kode data [valueid_daerah + valueid_variable + valueid_turunan variable + valueid_tahun + valueid_turunan tahun]\n",
    "    Bisa jadi module?\n",
    "    '''\n",
    "\n",
    "    content_key = ['var', 'turvar', 'tahun', 'turtahun']\n",
    "        \n",
    "    list_valueid = data['vervar'][1:len(data['vervar'])]\n",
    "    list_valueid = [list_valueid[x]['val'] for x in range(len(list_valueid))]\n",
    "    \n",
    "    list_var = [data[f'%s', data][x]['val'] for x in range(len(data_json[\"var\"]))] * len(list_value)\n",
    "    list_turvar = [data['turvar'][x]['val'] for x in range(len(data_json['turvar']))] * len(list_value)\n",
    "    list_tahun = [data['tahun'][x]['val'] for x in range(len(data['tahun']))] * len(list_value)\n",
    "    list_turtahun = [data['turtahun'][x]['val'] for x in range(len(data['turtahun']))] * len(list_value)\n",
    "\n",
    "    data_key = []\n",
    "    \n",
    "    for i in range(len(list_value)):\n",
    "        data_key.append(tr(list_value[i]) + \n",
    "              str(list_var[i]) +\n",
    "              str(list_turvar[i]) +\n",
    "              str(list_tahun[i]) +\n",
    "              str(list_turtahun[i]))\n",
    "\n",
    "    return \"\".join(data_key)"
   ]
  },
  {
   "cell_type": "code",
   "execution_count": 38,
   "id": "b7c53ba3-4e94-4247-8bd2-8d5b0cb24142",
   "metadata": {},
   "outputs": [
    {
     "ename": "TypeError",
     "evalue": "list indices must be integers or slices, not str",
     "output_type": "error",
     "traceback": [
      "\u001b[0;31m---------------------------------------------------------------------------\u001b[0m",
      "\u001b[0;31mTypeError\u001b[0m                                 Traceback (most recent call last)",
      "Cell \u001b[0;32mIn[38], line 1\u001b[0m\n\u001b[0;32m----> 1\u001b[0m kode_penduduk_aceh \u001b[38;5;241m=\u001b[39m \u001b[43mrebuild_data_key\u001b[49m\u001b[43m(\u001b[49m\u001b[43mpenduduk_aceh\u001b[49m\u001b[43m)\u001b[49m\n",
      "Cell \u001b[0;32mIn[37], line 20\u001b[0m, in \u001b[0;36mrebuild_data_key\u001b[0;34m(data)\u001b[0m\n\u001b[1;32m     17\u001b[0m list_valueid \u001b[38;5;241m=\u001b[39m data[\u001b[38;5;124m'\u001b[39m\u001b[38;5;124mvervar\u001b[39m\u001b[38;5;124m'\u001b[39m][\u001b[38;5;241m1\u001b[39m:\u001b[38;5;28mlen\u001b[39m(data[\u001b[38;5;124m'\u001b[39m\u001b[38;5;124mvervar\u001b[39m\u001b[38;5;124m'\u001b[39m])]\n\u001b[1;32m     18\u001b[0m list_valueid \u001b[38;5;241m=\u001b[39m [list_valueid[x][\u001b[38;5;124m'\u001b[39m\u001b[38;5;124mval\u001b[39m\u001b[38;5;124m'\u001b[39m] \u001b[38;5;28;01mfor\u001b[39;00m x \u001b[38;5;129;01min\u001b[39;00m \u001b[38;5;28mrange\u001b[39m(\u001b[38;5;28mlen\u001b[39m(list_valueid))]\n\u001b[0;32m---> 20\u001b[0m list_var \u001b[38;5;241m=\u001b[39m [data[\u001b[38;5;124mf\u001b[39m\u001b[38;5;124m'\u001b[39m\u001b[38;5;124m%s\u001b[39m\u001b[38;5;124m'\u001b[39m, data][x][\u001b[38;5;124m'\u001b[39m\u001b[38;5;124mval\u001b[39m\u001b[38;5;124m'\u001b[39m] \u001b[38;5;28;01mfor\u001b[39;00m x \u001b[38;5;129;01min\u001b[39;00m \u001b[38;5;28mrange\u001b[39m(\u001b[38;5;28mlen\u001b[39m(\u001b[43mdata_json\u001b[49m\u001b[43m[\u001b[49m\u001b[38;5;124;43m\"\u001b[39;49m\u001b[38;5;124;43mvar\u001b[39;49m\u001b[38;5;124;43m\"\u001b[39;49m\u001b[43m]\u001b[49m))] \u001b[38;5;241m*\u001b[39m \u001b[38;5;28mlen\u001b[39m(list_value)\n\u001b[1;32m     21\u001b[0m list_turvar \u001b[38;5;241m=\u001b[39m [data[\u001b[38;5;124m'\u001b[39m\u001b[38;5;124mturvar\u001b[39m\u001b[38;5;124m'\u001b[39m][x][\u001b[38;5;124m'\u001b[39m\u001b[38;5;124mval\u001b[39m\u001b[38;5;124m'\u001b[39m] \u001b[38;5;28;01mfor\u001b[39;00m x \u001b[38;5;129;01min\u001b[39;00m \u001b[38;5;28mrange\u001b[39m(\u001b[38;5;28mlen\u001b[39m(data_json[\u001b[38;5;124m'\u001b[39m\u001b[38;5;124mturvar\u001b[39m\u001b[38;5;124m'\u001b[39m]))] \u001b[38;5;241m*\u001b[39m \u001b[38;5;28mlen\u001b[39m(list_value)\n\u001b[1;32m     22\u001b[0m list_tahun \u001b[38;5;241m=\u001b[39m [data[\u001b[38;5;124m'\u001b[39m\u001b[38;5;124mtahun\u001b[39m\u001b[38;5;124m'\u001b[39m][x][\u001b[38;5;124m'\u001b[39m\u001b[38;5;124mval\u001b[39m\u001b[38;5;124m'\u001b[39m] \u001b[38;5;28;01mfor\u001b[39;00m x \u001b[38;5;129;01min\u001b[39;00m \u001b[38;5;28mrange\u001b[39m(\u001b[38;5;28mlen\u001b[39m(data[\u001b[38;5;124m'\u001b[39m\u001b[38;5;124mtahun\u001b[39m\u001b[38;5;124m'\u001b[39m]))] \u001b[38;5;241m*\u001b[39m \u001b[38;5;28mlen\u001b[39m(list_value)\n",
      "\u001b[0;31mTypeError\u001b[0m: list indices must be integers or slices, not str"
     ]
    }
   ],
   "source": [
    "kode_penduduk_aceh = rebuild_data_key(penduduk_aceh)"
   ]
  },
  {
   "cell_type": "markdown",
   "id": "ea67abcf-29b5-43f8-b654-12e69fce2acb",
   "metadata": {},
   "source": [
    "Buat tabel domain_prov di database"
   ]
  },
  {
   "cell_type": "code",
   "execution_count": null,
   "id": "53be6e52-924c-4db1-98f2-f10bc454b547",
   "metadata": {},
   "outputs": [],
   "source": []
  },
  {
   "cell_type": "markdown",
   "id": "2d588914-285d-4146-a356-e38e8ce246db",
   "metadata": {},
   "source": [
    "# Load"
   ]
  },
  {
   "cell_type": "code",
   "execution_count": 44,
   "id": "6b9c7854-4fff-41a8-8637-018e8874ed59",
   "metadata": {},
   "outputs": [],
   "source": [
    "conn = psycopg2.connect(\"host=localhost dbname=bps_data user=postgres password=postgres\")\n",
    "cur = conn.cursor()\n",
    "# https://www.postgresqltutorial.com/postgresql-python/connect/"
   ]
  },
  {
   "cell_type": "markdown",
   "id": "a96d8bc6-912f-4ecb-8e51-06e9b839d94e",
   "metadata": {},
   "source": [
    "### Kabupaten Kota"
   ]
  },
  {
   "cell_type": "code",
   "execution_count": 127,
   "id": "36959b3e-14c0-48e1-95a6-b2794c7b4c8f",
   "metadata": {},
   "outputs": [],
   "source": [
    "conn.rollback()\n",
    "cur.execute(\"CREATE TABLE domain_kabkot (id serial PRIMARY KEY, domain_id varchar(4), nama_kabkot varchar);\")\n",
    "\n",
    "conn.commit()"
   ]
  },
  {
   "cell_type": "code",
   "execution_count": 131,
   "id": "168a0d28-f544-48cb-a1b1-ae9813edfdae",
   "metadata": {},
   "outputs": [
    {
     "data": {
      "text/plain": [
       "(1029, '1101', 'Simeulue')"
      ]
     },
     "execution_count": 131,
     "metadata": {},
     "output_type": "execute_result"
    }
   ],
   "source": [
    "conn.rollback()\n",
    "for d in domain_data:\n",
    "        cur.execute(\"INSERT INTO domain_kabkot (domain_id, nama_kabkot) VALUES (%s, %s)\", (d[0],d[1]))\n",
    "cur.execute(\"SELECT * FROM domain_kabkot;\")\n",
    "conn.commit()\n",
    "\n",
    "cur.fetchone()"
   ]
  },
  {
   "cell_type": "markdown",
   "id": "3365fc15-20ec-4028-8b01-b9f81eeb3ca2",
   "metadata": {},
   "source": [
    "### Provinsi"
   ]
  },
  {
   "cell_type": "code",
   "execution_count": 45,
   "id": "738bd11f-f75b-4ae1-8774-f578f52ea02e",
   "metadata": {},
   "outputs": [],
   "source": [
    "conn.rollback()\n",
    "cur.execute(\"CREATE TABLE domain_prov (id serial PRIMARY KEY, domain_id varchar(4), nama_provinsi varchar);\")\n",
    "\n",
    "conn.commit()"
   ]
  },
  {
   "cell_type": "code",
   "execution_count": 49,
   "id": "10796550-0c3d-49aa-bc75-13a97e9f91f3",
   "metadata": {},
   "outputs": [
    {
     "data": {
      "text/plain": [
       "(1, '1100', 'Aceh')"
      ]
     },
     "execution_count": 49,
     "metadata": {},
     "output_type": "execute_result"
    }
   ],
   "source": [
    "conn.rollback()\n",
    "for d in domain_provinsi:\n",
    "        cur.execute(\"INSERT INTO domain_prov (domain_id, nama_provinsi) VALUES (%s, %s)\", (d[0],d[1]))\n",
    "cur.execute(\"SELECT * FROM domain_prov;\")\n",
    "conn.commit()\n",
    "\n",
    "cur.fetchall()"
   ]
  },
  {
   "cell_type": "code",
   "execution_count": 51,
   "id": "5ca6fdf1-c22f-4a65-9216-49a3a028d839",
   "metadata": {},
   "outputs": [
    {
     "data": {
      "text/plain": [
       "[(1, '1100', 'Aceh'),\n",
       " (2, '1200', 'Sumatera Utara'),\n",
       " (3, '1300', 'Sumatera Barat'),\n",
       " (4, '1400', 'Riau'),\n",
       " (5, '1500', 'Jambi'),\n",
       " (6, '1600', 'Sumatera Selatan'),\n",
       " (7, '1700', 'Bengkulu'),\n",
       " (8, '1800', 'Lampung'),\n",
       " (9, '1900', 'Kep. Bangka Belitung'),\n",
       " (10, '2100', 'Kep. Riau'),\n",
       " (11, '3100', 'Dki Jakarta'),\n",
       " (12, '3200', 'Jawa Barat'),\n",
       " (13, '3300', 'Jawa Tengah'),\n",
       " (14, '3400', 'Di Yogyakarta'),\n",
       " (15, '3500', 'Jawa Timur'),\n",
       " (16, '3600', 'Banten'),\n",
       " (17, '5100', 'Bali'),\n",
       " (18, '5200', 'Nusa Tenggara Barat'),\n",
       " (19, '5300', 'Nusa Tenggara Timur'),\n",
       " (20, '6100', 'Kalimantan Barat'),\n",
       " (21, '6200', 'Kalimantan Tengah'),\n",
       " (22, '6300', 'Kalimantan Selatan'),\n",
       " (23, '6400', 'Kalimantan Timur'),\n",
       " (24, '6500', 'Kalimantan Utara'),\n",
       " (25, '7100', 'Sulawesi Utara'),\n",
       " (26, '7200', 'Sulawesi Tengah'),\n",
       " (27, '7300', 'Sulawesi Selatan'),\n",
       " (28, '7400', 'Sulawesi Tenggara'),\n",
       " (29, '7500', 'Gorontalo'),\n",
       " (30, '7600', 'Sulawesi Barat'),\n",
       " (31, '8100', 'Maluku'),\n",
       " (32, '8200', 'Maluku Utara'),\n",
       " (33, '9100', 'Papua Barat'),\n",
       " (34, '9400', 'Papua')]"
      ]
     },
     "execution_count": 51,
     "metadata": {},
     "output_type": "execute_result"
    }
   ],
   "source": [
    "cur.execute(\"SELECT * FROM domain_prov;\")\n",
    "cur.fetchall()"
   ]
  },
  {
   "cell_type": "code",
   "execution_count": null,
   "id": "5a69b4d2-705a-4d79-935f-4828ccce61e9",
   "metadata": {},
   "outputs": [],
   "source": []
  },
  {
   "cell_type": "code",
   "execution_count": 123,
   "id": "d331f85a-18b8-480c-ac22-c8ce197d3f48",
   "metadata": {},
   "outputs": [],
   "source": [
    "conn.close()"
   ]
  },
  {
   "cell_type": "code",
   "execution_count": null,
   "id": "6a5f505c-a14d-4bec-a483-23597e99a16f",
   "metadata": {},
   "outputs": [],
   "source": []
  }
 ],
 "metadata": {
  "kernelspec": {
   "display_name": "Python 3 (ipykernel)",
   "language": "python",
   "name": "python3"
  },
  "language_info": {
   "codemirror_mode": {
    "name": "ipython",
    "version": 3
   },
   "file_extension": ".py",
   "mimetype": "text/x-python",
   "name": "python",
   "nbconvert_exporter": "python",
   "pygments_lexer": "ipython3",
   "version": "3.12.3"
  }
 },
 "nbformat": 4,
 "nbformat_minor": 5
}
