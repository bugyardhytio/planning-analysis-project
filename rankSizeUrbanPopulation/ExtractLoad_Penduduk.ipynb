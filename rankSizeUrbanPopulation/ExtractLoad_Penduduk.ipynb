{
 "cells": [
  {
   "cell_type": "code",
   "execution_count": 1,
   "id": "ee0b69e5-ac29-4959-8b57-17ea4946e8f7",
   "metadata": {},
   "outputs": [],
   "source": [
    "import requests\n",
    "import psycopg2\n",
    "import pandas as pd"
   ]
  },
  {
   "cell_type": "markdown",
   "id": "0cab7325-1687-444a-a980-3529457b34e1",
   "metadata": {},
   "source": [
    "# Extract"
   ]
  },
  {
   "cell_type": "markdown",
   "id": "633cbeb5-f5e9-447a-972d-59b41ae0c113",
   "metadata": {},
   "source": [
    "## Domain"
   ]
  },
  {
   "cell_type": "code",
   "execution_count": 7,
   "id": "e36fec97-3601-4ac5-84a2-c40cc13dd262",
   "metadata": {},
   "outputs": [],
   "source": [
    "domain_resp = requests.get('https://webapi.bps.go.id/v1/api/domain/type/kab/key/d4c6b79d2a92a08083fc9ed812cc727e/')\n",
    "domain_resp_prov = requests.get('https://webapi.bps.go.id/v1/api/domain/type/prov/key/d4c6b79d2a92a08083fc9ed812cc727e/')\n",
    "\n",
    "domain_json = domain_resp.json()\n",
    "domain_json_prov = domain_resp_prov.json()"
   ]
  },
  {
   "cell_type": "code",
   "execution_count": null,
   "id": "1c85245a-f382-4cb2-bef9-c1e581257913",
   "metadata": {},
   "outputs": [],
   "source": []
  },
  {
   "cell_type": "markdown",
   "id": "8586e558-722d-47cf-8832-3dfa73a10b7e",
   "metadata": {},
   "source": [
    "List kode kabupaten/kota dan namanya. Variabel domain_data berisi list tuple kode kabupaten/kota dan namanya"
   ]
  },
  {
   "cell_type": "code",
   "execution_count": 15,
   "id": "2295318c-0bc1-465e-900f-e89b36775bc3",
   "metadata": {},
   "outputs": [],
   "source": [
    "id_list = [domain_json['data'][1][i]['domain_id'] for i in range(len(domain_json['data'][1]))]\n",
    "name_list = [domain_json['data'][1][i]['domain_name'] for i in range(len(domain_json['data'][1]))]\n",
    "\n",
    "domain_data = list()\n",
    "for i,j in zip(id_list, name_list):\n",
    "    domain_data.append((i,j))"
   ]
  },
  {
   "cell_type": "markdown",
   "id": "07acf2d2-d680-4cc8-887c-65a3ce114943",
   "metadata": {},
   "source": [
    "List kode provinsi dan namanya. Variabel domain_provinsi berisi list tuple kode provinsi dan namanya"
   ]
  },
  {
   "cell_type": "code",
   "execution_count": 41,
   "id": "e5f4c912-0d72-46d9-bc56-7888ff64c45a",
   "metadata": {},
   "outputs": [],
   "source": [
    "l = len(domain_json_prov['data'][1])\n",
    "\n",
    "kode_provinsi = [domain_json_prov['data'][1][i]['domain_id'] for i in range(l)]\n",
    "nama_provinsi = [domain_json_prov['data'][1][i]['domain_name'] for i in range(l)]\n",
    "\n",
    "domain_provinsi = list()\n",
    "for i,j in zip(kode_provinsi, nama_provinsi):\n",
    "    domain_provinsi.append((i,j))"
   ]
  },
  {
   "cell_type": "code",
   "execution_count": 43,
   "id": "68bef7c7-4761-43a2-8669-5398b4485919",
   "metadata": {},
   "outputs": [
    {
     "data": {
      "text/plain": [
       "[('1100', 'Aceh'),\n",
       " ('1200', 'Sumatera Utara'),\n",
       " ('1300', 'Sumatera Barat'),\n",
       " ('1400', 'Riau'),\n",
       " ('1500', 'Jambi'),\n",
       " ('1600', 'Sumatera Selatan'),\n",
       " ('1700', 'Bengkulu'),\n",
       " ('1800', 'Lampung'),\n",
       " ('1900', 'Kep. Bangka Belitung'),\n",
       " ('2100', 'Kep. Riau'),\n",
       " ('3100', 'Dki Jakarta'),\n",
       " ('3200', 'Jawa Barat'),\n",
       " ('3300', 'Jawa Tengah'),\n",
       " ('3400', 'Di Yogyakarta'),\n",
       " ('3500', 'Jawa Timur'),\n",
       " ('3600', 'Banten'),\n",
       " ('5100', 'Bali'),\n",
       " ('5200', 'Nusa Tenggara Barat'),\n",
       " ('5300', 'Nusa Tenggara Timur'),\n",
       " ('6100', 'Kalimantan Barat'),\n",
       " ('6200', 'Kalimantan Tengah'),\n",
       " ('6300', 'Kalimantan Selatan'),\n",
       " ('6400', 'Kalimantan Timur'),\n",
       " ('6500', 'Kalimantan Utara'),\n",
       " ('7100', 'Sulawesi Utara'),\n",
       " ('7200', 'Sulawesi Tengah'),\n",
       " ('7300', 'Sulawesi Selatan'),\n",
       " ('7400', 'Sulawesi Tenggara'),\n",
       " ('7500', 'Gorontalo'),\n",
       " ('7600', 'Sulawesi Barat'),\n",
       " ('8100', 'Maluku'),\n",
       " ('8200', 'Maluku Utara'),\n",
       " ('9100', 'Papua Barat'),\n",
       " ('9400', 'Papua')]"
      ]
     },
     "execution_count": 43,
     "metadata": {},
     "output_type": "execute_result"
    }
   ],
   "source": [
    "domain_provinsi"
   ]
  },
  {
   "cell_type": "code",
   "execution_count": 42,
   "id": "ccb62814-918b-4485-b0bc-2f19186f1a6b",
   "metadata": {},
   "outputs": [
    {
     "name": "stdout",
     "output_type": "stream",
     "text": [
      "['1100', '1200', '1300', '1400', '1500', '1600', '1700', '1800', '1900', '2100', '3100', '3200', '3300', '3400', '3500', '3600', '5100', '5200', '5300', '6100', '6200', '6300', '6400', '6500', '7100', '7200', '7300', '7400', '7500', '7600', '8100', '8200', '9100', '9400']\n"
     ]
    }
   ],
   "source": [
    "kode_provinsi = []\n",
    "\n",
    "for i in id_list:\n",
    "    kode_provinsi.append(i[0:2] + \"00\")\n",
    "\n",
    "print(list(dict.fromkeys(kode_provinsi)))"
   ]
  },
  {
   "cell_type": "markdown",
   "id": "96603a2a-5db2-40b8-a9f5-545a1b5cd006",
   "metadata": {},
   "source": [
    "## Jumlah Penduduk"
   ]
  },
  {
   "cell_type": "code",
   "execution_count": 2,
   "id": "c5fe3810-65d1-43c2-9265-8b7641598645",
   "metadata": {},
   "outputs": [],
   "source": [
    "data_resp = requests.get('https://webapi.bps.go.id/v1/api/list/model/data/domain/1100/var/55/th/122/key/d4c6b79d2a92a08083fc9ed812cc727e/')\n",
    "data_json = data_resp.json()"
   ]
  },
  {
   "cell_type": "code",
   "execution_count": 54,
   "id": "cf06991d-f98f-4fcb-8647-077f96c78942",
   "metadata": {},
   "outputs": [
    {
     "data": {
      "text/plain": [
       "range(0, 23)"
      ]
     },
     "execution_count": 54,
     "metadata": {},
     "output_type": "execute_result"
    }
   ],
   "source": [
    "def df_bps_data(data)\n",
    "    pd.DataFrame(content: [data['datacontent'][i][range(len(list_valueid))]]"
   ]
  },
  {
   "cell_type": "code",
   "execution_count": 3,
   "id": "93eafd5b-76fe-42e1-b0a9-5aa897a6feae",
   "metadata": {},
   "outputs": [
    {
     "data": {
      "text/plain": [
       "{'status': 'OK',\n",
       " 'data-availability': 'available',\n",
       " 'var': [{'val': 55,\n",
       "   'label': 'Jumlah Penduduk',\n",
       "   'unit': 'Jiwa',\n",
       "   'subj': 'Kependudukan',\n",
       "   'def': '-',\n",
       "   'decimal': '',\n",
       "   'note': '-'}],\n",
       " 'turvar': [{'val': 0, 'label': 'Tidak Ada'}],\n",
       " 'labelvervar': 'Kabupaten/Kota &amp; Provinsi',\n",
       " 'vervar': [{'val': 1199, 'label': 'PROVINSI ACEH'},\n",
       "  {'val': 1101, 'label': 'SIMEULUE'},\n",
       "  {'val': 1102, 'label': 'ACEH SINGKIL'},\n",
       "  {'val': 1103, 'label': 'ACEH SELATAN'},\n",
       "  {'val': 1104, 'label': 'ACEH TENGGARA'},\n",
       "  {'val': 1105, 'label': 'ACEH TIMUR'},\n",
       "  {'val': 1106, 'label': 'ACEH TENGAH'},\n",
       "  {'val': 1107, 'label': 'ACEH BARAT'},\n",
       "  {'val': 1108, 'label': 'ACEH BESAR'},\n",
       "  {'val': 1109, 'label': 'PIDIE'},\n",
       "  {'val': 1110, 'label': 'BIREUEN'},\n",
       "  {'val': 1111, 'label': 'ACEH UTARA'},\n",
       "  {'val': 1112, 'label': 'ACEH BARAT DAYA'},\n",
       "  {'val': 1113, 'label': 'GAYO LUES'},\n",
       "  {'val': 1114, 'label': 'ACEH TAMIANG'},\n",
       "  {'val': 1115, 'label': 'NAGAN RAYA'},\n",
       "  {'val': 1116, 'label': 'ACEH JAYA'},\n",
       "  {'val': 1117, 'label': 'BENER MERIAH'},\n",
       "  {'val': 1118, 'label': 'PIDIE JAYA'},\n",
       "  {'val': 1171, 'label': 'BANDA ACEH'},\n",
       "  {'val': 1172, 'label': 'SABANG'},\n",
       "  {'val': 1173, 'label': 'LANGSA'},\n",
       "  {'val': 1174, 'label': 'LHOKSEUMAWE'},\n",
       "  {'val': 1175, 'label': 'SUBULUSSALAM'}],\n",
       " 'tahun': [{'val': 122, 'label': '2022'}],\n",
       " 'turtahun': [{'val': 0, 'label': 'Tahun'}],\n",
       " 'datacontent': {'11995501220': 5407855,\n",
       "  '11015501220': 94876,\n",
       "  '11025501220': 130787,\n",
       "  '11035501220': 237376,\n",
       "  '11045501220': 228308,\n",
       "  '11055501220': 432849,\n",
       "  '11065501220': 222673,\n",
       "  '11075501220': 202858,\n",
       "  '11085501220': 414490,\n",
       "  '11095501220': 444505,\n",
       "  '11105501220': 443874,\n",
       "  '11115501220': 614640,\n",
       "  '11125501220': 155046,\n",
       "  '11135501220': 103131,\n",
       "  '11145501220': 301492,\n",
       "  '11155501220': 173393,\n",
       "  '11165501220': 96028,\n",
       "  '11175501220': 168690,\n",
       "  '11185501220': 162771,\n",
       "  '11715501220': 257635,\n",
       "  '11725501220': 43208,\n",
       "  '11735501220': 192630,\n",
       "  '11745501220': 191396,\n",
       "  '11755501220': 95199}}"
      ]
     },
     "execution_count": 3,
     "metadata": {},
     "output_type": "execute_result"
    }
   ],
   "source": [
    "data_json"
   ]
  },
  {
   "cell_type": "code",
   "execution_count": 57,
   "id": "114ad03a-4706-4e0d-b8f0-8a96c28c2249",
   "metadata": {},
   "outputs": [
    {
     "name": "stdout",
     "output_type": "stream",
     "text": [
      "11015501220\n",
      "11025501220\n",
      "11035501220\n",
      "11045501220\n",
      "11055501220\n",
      "11065501220\n",
      "11075501220\n",
      "11085501220\n",
      "11095501220\n",
      "11105501220\n",
      "11115501220\n",
      "11125501220\n",
      "11135501220\n",
      "11145501220\n",
      "11155501220\n",
      "11165501220\n",
      "11175501220\n",
      "11185501220\n",
      "11715501220\n",
      "11725501220\n",
      "11735501220\n",
      "11745501220\n",
      "11755501220\n"
     ]
    }
   ],
   "source": [
    "def get_bps_data(domain, variable);\n",
    "    '''Extract data from BPS API, not yet include API requests which come before this method'''\n",
    "    list_valueid = data_json['vervar'][1:len(data_json['vervar'])]\n",
    "    list_valueid = [list_valueid[x]['val'] for x in range(len(list_valueid))]\n",
    "\n",
    "\n",
    "content_key = ['var', 'turvar', 'tahun', 'turtahun']\n",
    "\n",
    "def rebuild_data_key(data, content):\n",
    "    '''Output (data_key, )'''\n",
    "    list_var = [data[f'%s', content][x]['val'] for x in range(len(data_json[f'%s', content]))] * len(list_value)\n",
    "    list_turvar = [data['turvar'][x]['val'] for x in range(len(data_json['turvar']))] * len(list_value)\n",
    "    list_tahun = [data['tahun'][x]['val'] for x in range(len(data['tahun']))] * len(list_value)\n",
    "    list_turtahun = [data['turtahun'][x]['val'] for x in range(len(data['turtahun']))] * len(list_value)\n",
    "\n",
    "    ''' Check\n",
    "    for i in range(len(list_value)):\n",
    "        print(str(list_value[i]) + \n",
    "              str(list_var[i]) +\n",
    "              str(list_turvar[i]) +\n",
    "              str(list_tahun[i]) +\n",
    "              str(list_turtahun[i]))\n",
    "              '''"
   ]
  },
  {
   "cell_type": "code",
   "execution_count": null,
   "id": "b7c53ba3-4e94-4247-8bd2-8d5b0cb24142",
   "metadata": {},
   "outputs": [],
   "source": [
    "penduduk = pd.Dataframe()"
   ]
  },
  {
   "cell_type": "markdown",
   "id": "ea67abcf-29b5-43f8-b654-12e69fce2acb",
   "metadata": {},
   "source": [
    "Buat tabel domain_prov di database"
   ]
  },
  {
   "cell_type": "code",
   "execution_count": null,
   "id": "53be6e52-924c-4db1-98f2-f10bc454b547",
   "metadata": {},
   "outputs": [],
   "source": []
  },
  {
   "cell_type": "markdown",
   "id": "2d588914-285d-4146-a356-e38e8ce246db",
   "metadata": {},
   "source": [
    "# Load"
   ]
  },
  {
   "cell_type": "code",
   "execution_count": 44,
   "id": "6b9c7854-4fff-41a8-8637-018e8874ed59",
   "metadata": {},
   "outputs": [],
   "source": [
    "conn = psycopg2.connect(\"host=localhost dbname=bps_data user=postgres password=postgres\")\n",
    "cur = conn.cursor()\n",
    "# https://www.postgresqltutorial.com/postgresql-python/connect/"
   ]
  },
  {
   "cell_type": "markdown",
   "id": "a96d8bc6-912f-4ecb-8e51-06e9b839d94e",
   "metadata": {},
   "source": [
    "### Kabupaten Kota"
   ]
  },
  {
   "cell_type": "code",
   "execution_count": 127,
   "id": "36959b3e-14c0-48e1-95a6-b2794c7b4c8f",
   "metadata": {},
   "outputs": [],
   "source": [
    "conn.rollback()\n",
    "cur.execute(\"CREATE TABLE domain_kabkot (id serial PRIMARY KEY, domain_id varchar(4), nama_kabkot varchar);\")\n",
    "\n",
    "conn.commit()"
   ]
  },
  {
   "cell_type": "code",
   "execution_count": 131,
   "id": "168a0d28-f544-48cb-a1b1-ae9813edfdae",
   "metadata": {},
   "outputs": [
    {
     "data": {
      "text/plain": [
       "(1029, '1101', 'Simeulue')"
      ]
     },
     "execution_count": 131,
     "metadata": {},
     "output_type": "execute_result"
    }
   ],
   "source": [
    "conn.rollback()\n",
    "for d in domain_data:\n",
    "        cur.execute(\"INSERT INTO domain_kabkot (domain_id, nama_kabkot) VALUES (%s, %s)\", (d[0],d[1]))\n",
    "cur.execute(\"SELECT * FROM domain_kabkot;\")\n",
    "conn.commit()\n",
    "\n",
    "cur.fetchone()"
   ]
  },
  {
   "cell_type": "markdown",
   "id": "3365fc15-20ec-4028-8b01-b9f81eeb3ca2",
   "metadata": {},
   "source": [
    "### Provinsi"
   ]
  },
  {
   "cell_type": "code",
   "execution_count": 45,
   "id": "738bd11f-f75b-4ae1-8774-f578f52ea02e",
   "metadata": {},
   "outputs": [],
   "source": [
    "conn.rollback()\n",
    "cur.execute(\"CREATE TABLE domain_prov (id serial PRIMARY KEY, domain_id varchar(4), nama_provinsi varchar);\")\n",
    "\n",
    "conn.commit()"
   ]
  },
  {
   "cell_type": "code",
   "execution_count": 49,
   "id": "10796550-0c3d-49aa-bc75-13a97e9f91f3",
   "metadata": {},
   "outputs": [
    {
     "data": {
      "text/plain": [
       "(1, '1100', 'Aceh')"
      ]
     },
     "execution_count": 49,
     "metadata": {},
     "output_type": "execute_result"
    }
   ],
   "source": [
    "conn.rollback()\n",
    "for d in domain_provinsi:\n",
    "        cur.execute(\"INSERT INTO domain_prov (domain_id, nama_provinsi) VALUES (%s, %s)\", (d[0],d[1]))\n",
    "cur.execute(\"SELECT * FROM domain_prov;\")\n",
    "conn.commit()\n",
    "\n",
    "cur.fetchall()"
   ]
  },
  {
   "cell_type": "code",
   "execution_count": 51,
   "id": "5ca6fdf1-c22f-4a65-9216-49a3a028d839",
   "metadata": {},
   "outputs": [
    {
     "data": {
      "text/plain": [
       "[(1, '1100', 'Aceh'),\n",
       " (2, '1200', 'Sumatera Utara'),\n",
       " (3, '1300', 'Sumatera Barat'),\n",
       " (4, '1400', 'Riau'),\n",
       " (5, '1500', 'Jambi'),\n",
       " (6, '1600', 'Sumatera Selatan'),\n",
       " (7, '1700', 'Bengkulu'),\n",
       " (8, '1800', 'Lampung'),\n",
       " (9, '1900', 'Kep. Bangka Belitung'),\n",
       " (10, '2100', 'Kep. Riau'),\n",
       " (11, '3100', 'Dki Jakarta'),\n",
       " (12, '3200', 'Jawa Barat'),\n",
       " (13, '3300', 'Jawa Tengah'),\n",
       " (14, '3400', 'Di Yogyakarta'),\n",
       " (15, '3500', 'Jawa Timur'),\n",
       " (16, '3600', 'Banten'),\n",
       " (17, '5100', 'Bali'),\n",
       " (18, '5200', 'Nusa Tenggara Barat'),\n",
       " (19, '5300', 'Nusa Tenggara Timur'),\n",
       " (20, '6100', 'Kalimantan Barat'),\n",
       " (21, '6200', 'Kalimantan Tengah'),\n",
       " (22, '6300', 'Kalimantan Selatan'),\n",
       " (23, '6400', 'Kalimantan Timur'),\n",
       " (24, '6500', 'Kalimantan Utara'),\n",
       " (25, '7100', 'Sulawesi Utara'),\n",
       " (26, '7200', 'Sulawesi Tengah'),\n",
       " (27, '7300', 'Sulawesi Selatan'),\n",
       " (28, '7400', 'Sulawesi Tenggara'),\n",
       " (29, '7500', 'Gorontalo'),\n",
       " (30, '7600', 'Sulawesi Barat'),\n",
       " (31, '8100', 'Maluku'),\n",
       " (32, '8200', 'Maluku Utara'),\n",
       " (33, '9100', 'Papua Barat'),\n",
       " (34, '9400', 'Papua')]"
      ]
     },
     "execution_count": 51,
     "metadata": {},
     "output_type": "execute_result"
    }
   ],
   "source": [
    "cur.execute(\"SELECT * FROM domain_prov;\")\n",
    "cur.fetchall()"
   ]
  },
  {
   "cell_type": "code",
   "execution_count": null,
   "id": "5a69b4d2-705a-4d79-935f-4828ccce61e9",
   "metadata": {},
   "outputs": [],
   "source": []
  },
  {
   "cell_type": "code",
   "execution_count": 123,
   "id": "d331f85a-18b8-480c-ac22-c8ce197d3f48",
   "metadata": {},
   "outputs": [],
   "source": [
    "conn.close()"
   ]
  },
  {
   "cell_type": "code",
   "execution_count": null,
   "id": "6a5f505c-a14d-4bec-a483-23597e99a16f",
   "metadata": {},
   "outputs": [],
   "source": []
  }
 ],
 "metadata": {
  "kernelspec": {
   "display_name": "Python 3 (ipykernel)",
   "language": "python",
   "name": "python3"
  },
  "language_info": {
   "codemirror_mode": {
    "name": "ipython",
    "version": 3
   },
   "file_extension": ".py",
   "mimetype": "text/x-python",
   "name": "python",
   "nbconvert_exporter": "python",
   "pygments_lexer": "ipython3",
   "version": "3.12.3"
  }
 },
 "nbformat": 4,
 "nbformat_minor": 5
}
