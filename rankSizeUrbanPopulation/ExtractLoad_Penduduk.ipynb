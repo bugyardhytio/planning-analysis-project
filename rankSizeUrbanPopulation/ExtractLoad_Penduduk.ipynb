{
 "cells": [
  {
   "cell_type": "code",
   "execution_count": 71,
   "id": "ee0b69e5-ac29-4959-8b57-17ea4946e8f7",
   "metadata": {},
   "outputs": [],
   "source": [
    "import requests\n",
    "import json\n",
    "import psycopg2\n",
    "import pandas as pd\n",
    "import re"
   ]
  },
  {
   "cell_type": "markdown",
   "id": "0cab7325-1687-444a-a980-3529457b34e1",
   "metadata": {},
   "source": [
    "# Extract"
   ]
  },
  {
   "cell_type": "markdown",
   "id": "633cbeb5-f5e9-447a-972d-59b41ae0c113",
   "metadata": {},
   "source": [
    "## Domain"
   ]
  },
  {
   "cell_type": "code",
   "execution_count": 49,
   "id": "e36fec97-3601-4ac5-84a2-c40cc13dd262",
   "metadata": {},
   "outputs": [
    {
     "name": "stdout",
     "output_type": "stream",
     "text": [
      "Data kabkot diambil dari file lokal\n",
      "Data prov diambil dari file lokal\n"
     ]
    }
   ],
   "source": [
    "try:\n",
    "    with open(\"data/domain_prov.json\") as d:\n",
    "        if d:\n",
    "            domain_json = d.read()\n",
    "            domain_json = json.loads(domain_json)\n",
    "            d.close()\n",
    "\n",
    "        print(\"Data kabkot diambil dari file lokal\")\n",
    "\n",
    "    with open(\"data/domain_kabkot.json\") as d:\n",
    "        if d:\n",
    "            domain_json_prov = d.read()\n",
    "            domain_json_prov = json.loads(domain_json_prov)\n",
    "            d.close()\n",
    "\n",
    "        print(\"Data prov diambil dari file lokal\")\n",
    "\n",
    "except FileNotFoundError:\n",
    "    domain_resp = requests.get('https://webapi.bps.go.id/v1/api/domain/type/kab/key/d4c6b79d2a92a08083fc9ed812cc727e/')\n",
    "    domain_json = domain_resp.json()\n",
    "    domain = json.dumps(domain_json)\n",
    "\n",
    "    with open(\"data/domain_kabkot.json\", \"w\") as w:\n",
    "        w.write(domain)\n",
    "    \n",
    "    domain_resp_prov = requests.get('https://webapi.bps.go.id/v1/api/domain/type/prov/key/d4c6b79d2a92a08083fc9ed812cc727e/')\n",
    "    domain_json_prov = domain_resp_prov.json()\n",
    "    domain = json.dumps(domain_json_prov)\n",
    "\n",
    "    with open(\"data/domain_prov.json\", \"w\") as w:\n",
    "        w.write(domain)\n",
    "\n",
    "    print(\"Data diambil dari API\")"
   ]
  },
  {
   "cell_type": "markdown",
   "id": "8586e558-722d-47cf-8832-3dfa73a10b7e",
   "metadata": {},
   "source": [
    "List kode kabupaten/kota dan namanya. Variabel domain_data berisi list tuple kode kabupaten/kota dan namanya"
   ]
  },
  {
   "cell_type": "code",
   "execution_count": 26,
   "id": "2295318c-0bc1-465e-900f-e89b36775bc3",
   "metadata": {},
   "outputs": [],
   "source": [
    "id_list = [domain_json['data'][1][i]['domain_id'] for i in range(len(domain_json['data'][1]))]\n",
    "name_list = [domain_json['data'][1][i]['domain_name'] for i in range(len(domain_json['data'][1]))]\n",
    "\n",
    "domain_data = list()\n",
    "for i,j in zip(id_list, name_list):\n",
    "    domain_data.append((i,j))"
   ]
  },
  {
   "cell_type": "markdown",
   "id": "07acf2d2-d680-4cc8-887c-65a3ce114943",
   "metadata": {},
   "source": [
    "List kode provinsi dan namanya. Variabel domain_provinsi berisi list tuple kode provinsi dan namanya"
   ]
  },
  {
   "cell_type": "code",
   "execution_count": 27,
   "id": "e5f4c912-0d72-46d9-bc56-7888ff64c45a",
   "metadata": {},
   "outputs": [],
   "source": [
    "l = len(domain_json_prov['data'][1])\n",
    "\n",
    "kode_provinsi = [domain_json_prov['data'][1][i]['domain_id'] for i in range(l)]\n",
    "nama_provinsi = [domain_json_prov['data'][1][i]['domain_name'] for i in range(l)]\n",
    "\n",
    "domain_provinsi = list()\n",
    "for i,j in zip(kode_provinsi, nama_provinsi):\n",
    "    domain_provinsi.append((i,j))"
   ]
  },
  {
   "cell_type": "code",
   "execution_count": 76,
   "id": "68bef7c7-4761-43a2-8669-5398b4485919",
   "metadata": {},
   "outputs": [],
   "source": [
    "for i in range(len(domain_provinsi)):\n",
    "    d = domain_provinsi[i][1].lower().split()\n",
    "    \n",
    "    filename_prov = domain_provinsi[i][0] + '-' + ''.join(d)"
   ]
  },
  {
   "cell_type": "code",
   "execution_count": 28,
   "id": "ccb62814-918b-4485-b0bc-2f19186f1a6b",
   "metadata": {},
   "outputs": [
    {
     "name": "stdout",
     "output_type": "stream",
     "text": [
      "['1199', '1299', '1399', '1499', '1599', '1699', '1799', '1899', '1999', '2199', '3199', '3299', '3399', '3499', '3599', '3699', '5199', '5299', '5399', '6199', '6299', '6399', '6499', '6599', '7199', '7299', '7399', '7499', '7599', '7699', '8199', '8299', '9199', '9499']\n"
     ]
    }
   ],
   "source": [
    "kode_provinsi = []\n",
    "\n",
    "for i in id_list:\n",
    "    kode_provinsi.append(i[0:2] + \"99\")\n",
    "\n",
    "list(dict.fromkeys(kode_provinsi))\n",
    "\n",
    "print()"
   ]
  },
  {
   "cell_type": "code",
   "execution_count": null,
   "id": "af10a1e3-3b1d-4234-9053-9824a9b927b8",
   "metadata": {},
   "outputs": [],
   "source": []
  },
  {
   "cell_type": "markdown",
   "id": "96603a2a-5db2-40b8-a9f5-545a1b5cd006",
   "metadata": {},
   "source": [
    "## Jumlah Penduduk"
   ]
  },
  {
   "cell_type": "code",
   "execution_count": 60,
   "id": "c5fe3810-65d1-43c2-9265-8b7641598645",
   "metadata": {},
   "outputs": [
    {
     "name": "stdout",
     "output_type": "stream",
     "text": [
      "Data Lokal\n"
     ]
    }
   ],
   "source": [
    "try:\n",
    "    with open(\"data/jumlahpenduduk_aceh.json\", \"r\") as d:\n",
    "        if d:\n",
    "            penduduk_aceh = d.read()\n",
    "            penduduk_aceh = json.loads(penduduk_aceh)\n",
    "        d.close()\n",
    "        \n",
    "    print(\"Data Lokal\")\n",
    "except FileNotFoundError:  \n",
    "    data_resp = requests.get(\"https://webapi.bps.go.id/v1/api/list/model/data/domain/1100/var/55/th/122/key/d4c6b79d2a92a08083fc9ed812cc727e/\")\n",
    "    data_json = data_resp.json()\n",
    "    data_write = json.dumps(data_json)\n",
    "    \n",
    "    with open(\"data/jumlahpenduduk_aceh.json\", \"w\") as w:\n",
    "        w.write(data_write)\n",
    "        w.close()\n",
    "    \n",
    "    print(\"Data API\")"
   ]
  },
  {
   "cell_type": "code",
   "execution_count": 62,
   "id": "7e9d78ec-a8f6-4d7f-af36-368c4cf857f5",
   "metadata": {},
   "outputs": [],
   "source": [
    "data_resp = requests.get(\"https://webapi.bps.go.id/v1/api/list/model/data/domain/1400/var/55/th/122/key/d4c6b79d2a92a08083fc9ed812cc727e/\")\n",
    "data_json = data_resp.json()"
   ]
  },
  {
   "cell_type": "code",
   "execution_count": 54,
   "id": "cf06991d-f98f-4fcb-8647-077f96c78942",
   "metadata": {},
   "outputs": [
    {
     "data": {
      "text/plain": [
       "range(0, 23)"
      ]
     },
     "execution_count": 54,
     "metadata": {},
     "output_type": "execute_result"
    }
   ],
   "source": [
    "def df_bps_data(data)\n",
    "    pd.DataFrame(content: [data['datacontent'][i][range(len(list_valueid))]]"
   ]
  },
  {
   "cell_type": "code",
   "execution_count": 63,
   "id": "93eafd5b-76fe-42e1-b0a9-5aa897a6feae",
   "metadata": {},
   "outputs": [
    {
     "data": {
      "text/plain": [
       "{'status': 'OK',\n",
       " 'data-availability': 'available',\n",
       " 'var': [{'val': 55,\n",
       "   'label': 'Angka Partisipasi Kasar (APK) Perempuan/Laki-Laki Menurut Kabupaten/Kota',\n",
       "   'unit': '',\n",
       "   'subj': 'Pendidikan',\n",
       "   'def': 'Angka Partisipasi Kasar (APK) Provinsi Riau menurut Jenjang Pendidikan',\n",
       "   'decimal': '2',\n",
       "   'note': ''}],\n",
       " 'turvar': [{'val': 42, 'label': 'SD/MI'},\n",
       "  {'val': 43, 'label': 'SMP/MTS'},\n",
       "  {'val': 44, 'label': 'SMA/SMK/MA'}],\n",
       " 'labelvervar': 'Kabupaten/Kota',\n",
       " 'vervar': [{'val': 1401, 'label': 'Kuantan Singingi'},\n",
       "  {'val': 1402, 'label': 'Indragiri Hulu'},\n",
       "  {'val': 1403, 'label': 'Indragiri Hilir'},\n",
       "  {'val': 1404, 'label': 'Pelalawan'},\n",
       "  {'val': 1405, 'label': 'Siak'},\n",
       "  {'val': 1406, 'label': 'Kampar'},\n",
       "  {'val': 1407, 'label': 'Rokan Hulu'},\n",
       "  {'val': 1408, 'label': 'Bengkalis'},\n",
       "  {'val': 1409, 'label': 'Rokan Hilir'},\n",
       "  {'val': 1410, 'label': 'Kepulauan Meranti'},\n",
       "  {'val': 1471, 'label': 'Pekanbaru'},\n",
       "  {'val': 1473, 'label': 'Dumai'},\n",
       "  {'val': 1499, 'label': 'RIAU'}],\n",
       " 'tahun': [{'val': 122, 'label': '2022'}],\n",
       " 'turtahun': [{'val': 0, 'label': 'Tahun'}],\n",
       " 'datacontent': {'140155421220': 105.54,\n",
       "  '140155431220': 92.87,\n",
       "  '140155441220': 81.67,\n",
       "  '140255421220': 105.21,\n",
       "  '140255431220': 85.18,\n",
       "  '140255441220': 84.22,\n",
       "  '140355421220': 103.92,\n",
       "  '140355431220': 101.92,\n",
       "  '140355441220': 65.01,\n",
       "  '140455421220': 108.22,\n",
       "  '140455431220': 90.1,\n",
       "  '140455441220': 95.28,\n",
       "  '140555421220': 101.77,\n",
       "  '140555431220': 92.49,\n",
       "  '140555441220': 85.84,\n",
       "  '140655421220': 107.41,\n",
       "  '140655431220': 98.73,\n",
       "  '140655441220': 81.37,\n",
       "  '140755421220': 106.71,\n",
       "  '140755431220': 93.02,\n",
       "  '140755441220': 80.64,\n",
       "  '140855421220': 108.09,\n",
       "  '140855431220': 97.03,\n",
       "  '140855441220': 78.69,\n",
       "  '140955421220': 107.73,\n",
       "  '140955431220': 92.75,\n",
       "  '140955441220': 86.78,\n",
       "  '141055421220': 106.4,\n",
       "  '141055431220': 103.43,\n",
       "  '141055441220': 80.54,\n",
       "  '147155421220': 103.38,\n",
       "  '147155431220': 95.42,\n",
       "  '147155441220': 98.86,\n",
       "  '147355421220': 107.04,\n",
       "  '147355431220': 86.69,\n",
       "  '147355441220': 99.51,\n",
       "  '149955421220': 105.82,\n",
       "  '149955431220': 94.45,\n",
       "  '149955441220': 84.85}}"
      ]
     },
     "execution_count": 63,
     "metadata": {},
     "output_type": "execute_result"
    }
   ],
   "source": [
    "data_json"
   ]
  },
  {
   "cell_type": "code",
   "execution_count": 57,
   "id": "114ad03a-4706-4e0d-b8f0-8a96c28c2249",
   "metadata": {},
   "outputs": [
    {
     "name": "stdout",
     "output_type": "stream",
     "text": [
      "11015501220\n",
      "11025501220\n",
      "11035501220\n",
      "11045501220\n",
      "11055501220\n",
      "11065501220\n",
      "11075501220\n",
      "11085501220\n",
      "11095501220\n",
      "11105501220\n",
      "11115501220\n",
      "11125501220\n",
      "11135501220\n",
      "11145501220\n",
      "11155501220\n",
      "11165501220\n",
      "11175501220\n",
      "11185501220\n",
      "11715501220\n",
      "11725501220\n",
      "11735501220\n",
      "11745501220\n",
      "11755501220\n"
     ]
    }
   ],
   "source": [
    "def get_bps_data(domain, variable);\n",
    "    '''\n",
    "    Extract data from BPS API, not yet include API requests which come before this method\n",
    "    Output: (data_key, nama_daerah, value)\n",
    "    '''\n",
    "\n",
    "\n",
    "def rebuild_data_key(data):\n",
    "    '''\n",
    "    Fungsi: kamus metadata BPS API pribadi\n",
    "    Output: string kode data [valueid_daerah + valueid_variable + valueid_turunan variable + valueid_tahun + valueid_turunan tahun]\n",
    "    Bisa jadi module?\n",
    "    '''\n",
    "\n",
    "    content_key = ['var', 'turvar', 'tahun', 'turtahun']\n",
    "        \n",
    "    list_valueid = data_json['vervar'][1:len(data_json['vervar'])]\n",
    "    list_valueid = [list_valueid[x]['val'] for x in range(len(list_valueid))]\n",
    "    \n",
    "    list_var = [data[f'%s', content][x]['val'] for x in range(len(data_json[f'%s', content]))] * len(list_value)\n",
    "    list_turvar = [data['turvar'][x]['val'] for x in range(len(data_json['turvar']))] * len(list_value)\n",
    "    list_tahun = [data['tahun'][x]['val'] for x in range(len(data['tahun']))] * len(list_value)\n",
    "    list_turtahun = [data['turtahun'][x]['val'] for x in range(len(data['turtahun']))] * len(list_value)\n",
    "\n",
    "    ''' Check\n",
    "    for i in range(len(list_value)):\n",
    "        print(str(list_value[i]) + \n",
    "              str(list_var[i]) +\n",
    "              str(list_turvar[i]) +\n",
    "              str(list_tahun[i]) +\n",
    "              str(list_turtahun[i]))\n",
    "              '''"
   ]
  },
  {
   "cell_type": "code",
   "execution_count": null,
   "id": "b7c53ba3-4e94-4247-8bd2-8d5b0cb24142",
   "metadata": {},
   "outputs": [],
   "source": [
    "penduduk = pd.Dataframe()"
   ]
  },
  {
   "cell_type": "markdown",
   "id": "ea67abcf-29b5-43f8-b654-12e69fce2acb",
   "metadata": {},
   "source": [
    "Buat tabel domain_prov di database"
   ]
  },
  {
   "cell_type": "code",
   "execution_count": null,
   "id": "53be6e52-924c-4db1-98f2-f10bc454b547",
   "metadata": {},
   "outputs": [],
   "source": []
  },
  {
   "cell_type": "markdown",
   "id": "2d588914-285d-4146-a356-e38e8ce246db",
   "metadata": {},
   "source": [
    "# Load"
   ]
  },
  {
   "cell_type": "code",
   "execution_count": 44,
   "id": "6b9c7854-4fff-41a8-8637-018e8874ed59",
   "metadata": {},
   "outputs": [],
   "source": [
    "conn = psycopg2.connect(\"host=localhost dbname=bps_data user=postgres password=postgres\")\n",
    "cur = conn.cursor()\n",
    "# https://www.postgresqltutorial.com/postgresql-python/connect/"
   ]
  },
  {
   "cell_type": "markdown",
   "id": "a96d8bc6-912f-4ecb-8e51-06e9b839d94e",
   "metadata": {},
   "source": [
    "### Kabupaten Kota"
   ]
  },
  {
   "cell_type": "code",
   "execution_count": 127,
   "id": "36959b3e-14c0-48e1-95a6-b2794c7b4c8f",
   "metadata": {},
   "outputs": [],
   "source": [
    "conn.rollback()\n",
    "cur.execute(\"CREATE TABLE domain_kabkot (id serial PRIMARY KEY, domain_id varchar(4), nama_kabkot varchar);\")\n",
    "\n",
    "conn.commit()"
   ]
  },
  {
   "cell_type": "code",
   "execution_count": 131,
   "id": "168a0d28-f544-48cb-a1b1-ae9813edfdae",
   "metadata": {},
   "outputs": [
    {
     "data": {
      "text/plain": [
       "(1029, '1101', 'Simeulue')"
      ]
     },
     "execution_count": 131,
     "metadata": {},
     "output_type": "execute_result"
    }
   ],
   "source": [
    "conn.rollback()\n",
    "for d in domain_data:\n",
    "        cur.execute(\"INSERT INTO domain_kabkot (domain_id, nama_kabkot) VALUES (%s, %s)\", (d[0],d[1]))\n",
    "cur.execute(\"SELECT * FROM domain_kabkot;\")\n",
    "conn.commit()\n",
    "\n",
    "cur.fetchone()"
   ]
  },
  {
   "cell_type": "markdown",
   "id": "3365fc15-20ec-4028-8b01-b9f81eeb3ca2",
   "metadata": {},
   "source": [
    "### Provinsi"
   ]
  },
  {
   "cell_type": "code",
   "execution_count": 45,
   "id": "738bd11f-f75b-4ae1-8774-f578f52ea02e",
   "metadata": {},
   "outputs": [],
   "source": [
    "conn.rollback()\n",
    "cur.execute(\"CREATE TABLE domain_prov (id serial PRIMARY KEY, domain_id varchar(4), nama_provinsi varchar);\")\n",
    "\n",
    "conn.commit()"
   ]
  },
  {
   "cell_type": "code",
   "execution_count": 49,
   "id": "10796550-0c3d-49aa-bc75-13a97e9f91f3",
   "metadata": {},
   "outputs": [
    {
     "data": {
      "text/plain": [
       "(1, '1100', 'Aceh')"
      ]
     },
     "execution_count": 49,
     "metadata": {},
     "output_type": "execute_result"
    }
   ],
   "source": [
    "conn.rollback()\n",
    "for d in domain_provinsi:\n",
    "        cur.execute(\"INSERT INTO domain_prov (domain_id, nama_provinsi) VALUES (%s, %s)\", (d[0],d[1]))\n",
    "cur.execute(\"SELECT * FROM domain_prov;\")\n",
    "conn.commit()\n",
    "\n",
    "cur.fetchall()"
   ]
  },
  {
   "cell_type": "code",
   "execution_count": 51,
   "id": "5ca6fdf1-c22f-4a65-9216-49a3a028d839",
   "metadata": {},
   "outputs": [
    {
     "data": {
      "text/plain": [
       "[(1, '1100', 'Aceh'),\n",
       " (2, '1200', 'Sumatera Utara'),\n",
       " (3, '1300', 'Sumatera Barat'),\n",
       " (4, '1400', 'Riau'),\n",
       " (5, '1500', 'Jambi'),\n",
       " (6, '1600', 'Sumatera Selatan'),\n",
       " (7, '1700', 'Bengkulu'),\n",
       " (8, '1800', 'Lampung'),\n",
       " (9, '1900', 'Kep. Bangka Belitung'),\n",
       " (10, '2100', 'Kep. Riau'),\n",
       " (11, '3100', 'Dki Jakarta'),\n",
       " (12, '3200', 'Jawa Barat'),\n",
       " (13, '3300', 'Jawa Tengah'),\n",
       " (14, '3400', 'Di Yogyakarta'),\n",
       " (15, '3500', 'Jawa Timur'),\n",
       " (16, '3600', 'Banten'),\n",
       " (17, '5100', 'Bali'),\n",
       " (18, '5200', 'Nusa Tenggara Barat'),\n",
       " (19, '5300', 'Nusa Tenggara Timur'),\n",
       " (20, '6100', 'Kalimantan Barat'),\n",
       " (21, '6200', 'Kalimantan Tengah'),\n",
       " (22, '6300', 'Kalimantan Selatan'),\n",
       " (23, '6400', 'Kalimantan Timur'),\n",
       " (24, '6500', 'Kalimantan Utara'),\n",
       " (25, '7100', 'Sulawesi Utara'),\n",
       " (26, '7200', 'Sulawesi Tengah'),\n",
       " (27, '7300', 'Sulawesi Selatan'),\n",
       " (28, '7400', 'Sulawesi Tenggara'),\n",
       " (29, '7500', 'Gorontalo'),\n",
       " (30, '7600', 'Sulawesi Barat'),\n",
       " (31, '8100', 'Maluku'),\n",
       " (32, '8200', 'Maluku Utara'),\n",
       " (33, '9100', 'Papua Barat'),\n",
       " (34, '9400', 'Papua')]"
      ]
     },
     "execution_count": 51,
     "metadata": {},
     "output_type": "execute_result"
    }
   ],
   "source": [
    "cur.execute(\"SELECT * FROM domain_prov;\")\n",
    "cur.fetchall()"
   ]
  },
  {
   "cell_type": "code",
   "execution_count": null,
   "id": "5a69b4d2-705a-4d79-935f-4828ccce61e9",
   "metadata": {},
   "outputs": [],
   "source": []
  },
  {
   "cell_type": "code",
   "execution_count": 123,
   "id": "d331f85a-18b8-480c-ac22-c8ce197d3f48",
   "metadata": {},
   "outputs": [],
   "source": [
    "conn.close()"
   ]
  },
  {
   "cell_type": "code",
   "execution_count": null,
   "id": "6a5f505c-a14d-4bec-a483-23597e99a16f",
   "metadata": {},
   "outputs": [],
   "source": []
  }
 ],
 "metadata": {
  "kernelspec": {
   "display_name": "Python 3 (ipykernel)",
   "language": "python",
   "name": "python3"
  },
  "language_info": {
   "codemirror_mode": {
    "name": "ipython",
    "version": 3
   },
   "file_extension": ".py",
   "mimetype": "text/x-python",
   "name": "python",
   "nbconvert_exporter": "python",
   "pygments_lexer": "ipython3",
   "version": "3.12.3"
  }
 },
 "nbformat": 4,
 "nbformat_minor": 5
}
