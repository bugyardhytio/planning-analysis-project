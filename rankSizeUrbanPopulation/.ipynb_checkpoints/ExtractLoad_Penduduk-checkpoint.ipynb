{
 "cells": [
  {
   "cell_type": "code",
   "execution_count": 122,
   "id": "ee0b69e5-ac29-4959-8b57-17ea4946e8f7",
   "metadata": {},
   "outputs": [],
   "source": [
    "import requests\n",
    "import json\n",
    "import psycopg2"
   ]
  },
  {
   "cell_type": "code",
   "execution_count": null,
   "id": "833a1faf-4825-4bab-abf8-a8138a8ae5d1",
   "metadata": {},
   "outputs": [],
   "source": []
  },
  {
   "cell_type": "code",
   "execution_count": 35,
   "id": "fae09538-48ed-4c58-8a2d-a88d859c6eca",
   "metadata": {},
   "outputs": [
    {
     "name": "stdout",
     "output_type": "stream",
     "text": [
      "Collecting psycopg2-binary\n",
      "  Downloading psycopg2_binary-2.9.9-cp312-cp312-manylinux_2_17_x86_64.manylinux2014_x86_64.whl.metadata (4.4 kB)\n",
      "Downloading psycopg2_binary-2.9.9-cp312-cp312-manylinux_2_17_x86_64.manylinux2014_x86_64.whl (3.0 MB)\n",
      "\u001b[2K   \u001b[38;2;114;156;31m━━━━━━━━━━━━━━━━━━━━━━━━━━━━━━━━━━━━━━━━\u001b[0m \u001b[32m3.0/3.0 MB\u001b[0m \u001b[31m2.5 MB/s\u001b[0m eta \u001b[36m0:00:00\u001b[0mm eta \u001b[36m0:00:01\u001b[0m[36m0:00:01\u001b[0m\n",
      "\u001b[?25hInstalling collected packages: psycopg2-binary\n",
      "Successfully installed psycopg2-binary-2.9.9\n",
      "\n",
      "\u001b[1m[\u001b[0m\u001b[34;49mnotice\u001b[0m\u001b[1;39;49m]\u001b[0m\u001b[39;49m A new release of pip is available: \u001b[0m\u001b[31;49m24.0\u001b[0m\u001b[39;49m -> \u001b[0m\u001b[32;49m24.1\u001b[0m\n",
      "\u001b[1m[\u001b[0m\u001b[34;49mnotice\u001b[0m\u001b[1;39;49m]\u001b[0m\u001b[39;49m To update, run: \u001b[0m\u001b[32;49m/home/bugyardhytio/.local/share/pipx/venvs/notebook/bin/python -m pip install --upgrade pip\u001b[0m\n",
      "Note: you may need to restart the kernel to use updated packages.\n"
     ]
    }
   ],
   "source": [
    "%pip install psycopg2-binary"
   ]
  },
  {
   "cell_type": "markdown",
   "id": "0cab7325-1687-444a-a980-3529457b34e1",
   "metadata": {},
   "source": [
    "# Extract"
   ]
  },
  {
   "cell_type": "code",
   "execution_count": 96,
   "id": "e36fec97-3601-4ac5-84a2-c40cc13dd262",
   "metadata": {},
   "outputs": [],
   "source": [
    "domain_resp = requests.get('https://webapi.bps.go.id/v1/api/domain/type/kab/key/d4c6b79d2a92a08083fc9ed812cc727e/')\n",
    "resp = requests.get('https://webapi.bps.go.id/v1/api/list/model/data/domain/0000/var/1/key/d4c6b79d2a92a08083fc9ed812cc727e/')"
   ]
  },
  {
   "cell_type": "code",
   "execution_count": 97,
   "id": "bf9028d4-869c-4d83-9d0c-d987d013b439",
   "metadata": {},
   "outputs": [
    {
     "name": "stdout",
     "output_type": "stream",
     "text": [
      "<Response [200]> <Response [200]>\n"
     ]
    }
   ],
   "source": [
    "print(domain_resp, resp)"
   ]
  },
  {
   "cell_type": "code",
   "execution_count": 98,
   "id": "e5f4c912-0d72-46d9-bc56-7888ff64c45a",
   "metadata": {},
   "outputs": [],
   "source": [
    "url_domain = domain_resp.json()"
   ]
  },
  {
   "cell_type": "code",
   "execution_count": 57,
   "id": "2295318c-0bc1-465e-900f-e89b36775bc3",
   "metadata": {},
   "outputs": [],
   "source": [
    "''' Test\n",
    "for i in range(len(url_domain['data'][1])):\n",
    "    \n",
    "    print(\"id:\", url_domain['data'][1][i]['domain_id'], \"|\",\n",
    "          \"nama daerah:\", url_domain['data'][1][i]['domain_name'])\n",
    "'''\n",
    "\n",
    "id_list = [url_domain['data'][1][i]['domain_id'] for i in range(len(url_domain['data'][1]))]\n",
    "name_list = [url_domain['data'][1][i]['domain_name'] for i in range(len(url_domain['data'][1]))]"
   ]
  },
  {
   "cell_type": "code",
   "execution_count": null,
   "id": "4111213e-7327-4867-96c0-b57023fefb09",
   "metadata": {},
   "outputs": [],
   "source": [
    "domain_data = []\n",
    "[domain_data.append((i,j)) for i,j in zip(id_list, name_list)]"
   ]
  },
  {
   "cell_type": "code",
   "execution_count": 88,
   "id": "4b80d1e7-4eb9-45c8-99f4-1c751e6c6eab",
   "metadata": {},
   "outputs": [],
   "source": [
    "for i,j in zip(id_list, name_list):\n",
    "    #print(i,j)\n",
    "    domain_data.append((i,j))"
   ]
  },
  {
   "cell_type": "code",
   "execution_count": null,
   "id": "41dd7331-a34e-425a-b9ed-a8952d121a48",
   "metadata": {},
   "outputs": [],
   "source": []
  },
  {
   "cell_type": "markdown",
   "id": "2d588914-285d-4146-a356-e38e8ce246db",
   "metadata": {},
   "source": [
    "# Load"
   ]
  },
  {
   "cell_type": "code",
   "execution_count": 124,
   "id": "6b9c7854-4fff-41a8-8637-018e8874ed59",
   "metadata": {},
   "outputs": [],
   "source": [
    "conn = psycopg2.connect(\"host=localhost dbname=bps_data user=postgres password=postgres\")\n",
    "cur = conn.cursor()\n",
    "# https://www.postgresqltutorial.com/postgresql-python/connect/"
   ]
  },
  {
   "cell_type": "code",
   "execution_count": 127,
   "id": "36959b3e-14c0-48e1-95a6-b2794c7b4c8f",
   "metadata": {},
   "outputs": [],
   "source": [
    "conn.rollback()\n",
    "cur.execute(\"CREATE TABLE domain_kabkot (id serial PRIMARY KEY, domain_id varchar(4), nama_kabkot varchar);\")\n",
    "\n",
    "conn.commit()"
   ]
  },
  {
   "cell_type": "code",
   "execution_count": 131,
   "id": "168a0d28-f544-48cb-a1b1-ae9813edfdae",
   "metadata": {},
   "outputs": [
    {
     "data": {
      "text/plain": [
       "(1029, '1101', 'Simeulue')"
      ]
     },
     "execution_count": 131,
     "metadata": {},
     "output_type": "execute_result"
    }
   ],
   "source": [
    "conn.rollback()\n",
    "for d in domain_data:\n",
    "        cur.execute(\"INSERT INTO domain_kabkot (domain_id, nama_kabkot) VALUES (%s, %s)\", (d[0],d[1]))\n",
    "cur.execute(\"SELECT * FROM domain_kabkot;\")\n",
    "conn.commit()\n",
    "\n",
    "cur.fetchone()"
   ]
  },
  {
   "cell_type": "code",
   "execution_count": 72,
   "id": "10796550-0c3d-49aa-bc75-13a97e9f91f3",
   "metadata": {},
   "outputs": [
    {
     "ename": "DuplicateTable",
     "evalue": "relation \"domain\" already exists\n",
     "output_type": "error",
     "traceback": [
      "\u001b[0;31m---------------------------------------------------------------------------\u001b[0m",
      "\u001b[0;31mDuplicateTable\u001b[0m                            Traceback (most recent call last)",
      "Cell \u001b[0;32mIn[72], line 7\u001b[0m\n\u001b[1;32m      1\u001b[0m cur \u001b[38;5;241m=\u001b[39m conn\u001b[38;5;241m.\u001b[39mcursor()\n\u001b[1;32m      2\u001b[0m command \u001b[38;5;241m=\u001b[39m (\u001b[38;5;124m'''\u001b[39m\u001b[38;5;124mCREATE TABLE domain (\u001b[39m\n\u001b[1;32m      3\u001b[0m \u001b[38;5;124m            domain_id INTEGER PRIMARY KEY,\u001b[39m\n\u001b[1;32m      4\u001b[0m \u001b[38;5;124m            kabupaten_name VARCHAR(50)\u001b[39m\n\u001b[1;32m      5\u001b[0m \u001b[38;5;124m        )\u001b[39m\u001b[38;5;124m'''\u001b[39m) \n\u001b[0;32m----> 7\u001b[0m \u001b[43mcur\u001b[49m\u001b[38;5;241;43m.\u001b[39;49m\u001b[43mexecute\u001b[49m\u001b[43m(\u001b[49m\u001b[43mcommand\u001b[49m\u001b[43m)\u001b[49m\n\u001b[1;32m      8\u001b[0m conn\u001b[38;5;241m.\u001b[39mcommit()\n",
      "\u001b[0;31mDuplicateTable\u001b[0m: relation \"domain\" already exists\n"
     ]
    }
   ],
   "source": [
    "command = ('''ALTER TABLE test \n",
    "            )''') \n",
    "\n",
    "cur.execute(command)\n",
    "conn.commit()"
   ]
  },
  {
   "cell_type": "code",
   "execution_count": 123,
   "id": "d331f85a-18b8-480c-ac22-c8ce197d3f48",
   "metadata": {},
   "outputs": [],
   "source": [
    "conn.close()"
   ]
  },
  {
   "cell_type": "code",
   "execution_count": null,
   "id": "6a5f505c-a14d-4bec-a483-23597e99a16f",
   "metadata": {},
   "outputs": [],
   "source": []
  }
 ],
 "metadata": {
  "kernelspec": {
   "display_name": "Python 3 (ipykernel)",
   "language": "python",
   "name": "python3"
  },
  "language_info": {
   "codemirror_mode": {
    "name": "ipython",
    "version": 3
   },
   "file_extension": ".py",
   "mimetype": "text/x-python",
   "name": "python",
   "nbconvert_exporter": "python",
   "pygments_lexer": "ipython3",
   "version": "3.12.3"
  }
 },
 "nbformat": 4,
 "nbformat_minor": 5
}
